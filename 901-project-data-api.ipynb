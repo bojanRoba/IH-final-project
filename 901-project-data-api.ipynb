{
 "cells": [
  {
   "cell_type": "code",
   "execution_count": 1,
   "id": "471cf8a1",
   "metadata": {},
   "outputs": [],
   "source": [
    "import requests   # Import requests library\n",
    "import json\n",
    "import pandas as pd"
   ]
  },
  {
   "cell_type": "code",
   "execution_count": 2,
   "id": "4f0db512",
   "metadata": {},
   "outputs": [],
   "source": [
    "from pandas import json_normalize"
   ]
  },
  {
   "cell_type": "code",
   "execution_count": 3,
   "id": "2a995b49",
   "metadata": {},
   "outputs": [],
   "source": [
    "pd.set_option(\"display.max_columns\", None)\n",
    "pd.reset_option(\"display.max_rows\")"
   ]
  },
  {
   "cell_type": "code",
   "execution_count": 4,
   "id": "d4f445f1",
   "metadata": {},
   "outputs": [],
   "source": [
    "usa_jobs = requests.get('https://data.usajobs.gov/api/historicjoa')"
   ]
  },
  {
   "cell_type": "code",
   "execution_count": 5,
   "id": "8d5a3957",
   "metadata": {},
   "outputs": [
    {
     "name": "stdout",
     "output_type": "stream",
     "text": [
      "200\n"
     ]
    }
   ],
   "source": [
    "print(usa_jobs.status_code)   # status code"
   ]
  },
  {
   "cell_type": "code",
   "execution_count": 6,
   "id": "15a98102",
   "metadata": {},
   "outputs": [
    {
     "data": {
      "text/plain": [
       "requests.models.Response"
      ]
     },
     "execution_count": 6,
     "metadata": {},
     "output_type": "execute_result"
    }
   ],
   "source": [
    "type(usa_jobs)"
   ]
  },
  {
   "cell_type": "code",
   "execution_count": 7,
   "id": "72eec1a2",
   "metadata": {
    "scrolled": false
   },
   "outputs": [],
   "source": [
    "# response\n",
    "usa_jobs_results = usa_jobs.json()"
   ]
  },
  {
   "cell_type": "code",
   "execution_count": 8,
   "id": "fdfa2765",
   "metadata": {},
   "outputs": [
    {
     "name": "stdout",
     "output_type": "stream",
     "text": [
      "<class 'dict'>\n",
      "2\n",
      "['paging', 'data']\n"
     ]
    }
   ],
   "source": [
    "# USA Jobs\n",
    "print(type(usa_jobs_results))\n",
    "print(len(usa_jobs_results))\n",
    "print(list(usa_jobs_results))"
   ]
  },
  {
   "cell_type": "code",
   "execution_count": 9,
   "id": "58f3d57b",
   "metadata": {},
   "outputs": [],
   "source": [
    "# response\n",
    "# usa_jobs_results"
   ]
  },
  {
   "cell_type": "code",
   "execution_count": 10,
   "id": "93c31716",
   "metadata": {},
   "outputs": [],
   "source": [
    "# USA Jobs"
   ]
  },
  {
   "cell_type": "code",
   "execution_count": 11,
   "id": "daabd071",
   "metadata": {},
   "outputs": [
    {
     "name": "stdout",
     "output_type": "stream",
     "text": [
      "<class 'int'>\n"
     ]
    },
    {
     "data": {
      "text/plain": [
       "2498"
      ]
     },
     "execution_count": 11,
     "metadata": {},
     "output_type": "execute_result"
    }
   ],
   "source": [
    "print(type(usa_jobs_results[list(usa_jobs_results)[0]]['metadata']['totalPages']))\n",
    "usa_jobs_results[list(usa_jobs_results)[0]]['metadata']['totalPages']"
   ]
  },
  {
   "cell_type": "code",
   "execution_count": 12,
   "id": "54acd00a",
   "metadata": {},
   "outputs": [],
   "source": [
    "# paging\n",
    "# usa_jobs_results[list(usa_jobs_results)[0]]"
   ]
  },
  {
   "cell_type": "code",
   "execution_count": 13,
   "id": "ce179b1c",
   "metadata": {},
   "outputs": [
    {
     "data": {
      "text/plain": [
       "1000"
      ]
     },
     "execution_count": 13,
     "metadata": {},
     "output_type": "execute_result"
    }
   ],
   "source": [
    "# data\n",
    "len(usa_jobs_results[list(usa_jobs_results)[1]])"
   ]
  },
  {
   "cell_type": "code",
   "execution_count": 14,
   "id": "75dda0f1",
   "metadata": {},
   "outputs": [
    {
     "data": {
      "text/plain": [
       "2498"
      ]
     },
     "execution_count": 14,
     "metadata": {},
     "output_type": "execute_result"
    }
   ],
   "source": [
    "# total_pages = 2496\n",
    "\n",
    "total_pages = list(range(1, usa_jobs_results[list(usa_jobs_results)[0]]['metadata']['totalPages']+1))\n",
    "len(total_pages)"
   ]
  },
  {
   "cell_type": "code",
   "execution_count": 15,
   "id": "1cd2f20d",
   "metadata": {},
   "outputs": [
    {
     "data": {
      "text/plain": [
       "25"
      ]
     },
     "execution_count": 15,
     "metadata": {},
     "output_type": "execute_result"
    }
   ],
   "source": [
    "page_chunks = list(range(1, usa_jobs_results[list(usa_jobs_results)[0]]['metadata']['totalPages']+1,100))\n",
    "len(page_chunks)"
   ]
  },
  {
   "cell_type": "code",
   "execution_count": 16,
   "id": "235392c1",
   "metadata": {},
   "outputs": [
    {
     "data": {
      "text/plain": [
       "26"
      ]
     },
     "execution_count": 16,
     "metadata": {},
     "output_type": "execute_result"
    }
   ],
   "source": [
    "page_chunks.append(usa_jobs_results[list(usa_jobs_results)[0]]['metadata']['totalPages'])\n",
    "len(page_chunks)"
   ]
  },
  {
   "cell_type": "code",
   "execution_count": 17,
   "id": "56307ab7",
   "metadata": {},
   "outputs": [],
   "source": [
    "chunks = []\n",
    "\n",
    "for num in page_chunks:\n",
    "    chunks.append('page_'+str(num))\n",
    "    \n",
    "# chunks"
   ]
  },
  {
   "cell_type": "code",
   "execution_count": 18,
   "id": "8924f8d3",
   "metadata": {},
   "outputs": [
    {
     "data": {
      "text/plain": [
       "1"
      ]
     },
     "execution_count": 18,
     "metadata": {},
     "output_type": "execute_result"
    }
   ],
   "source": [
    "int(chunks[0].split('_')[1])"
   ]
  },
  {
   "cell_type": "code",
   "execution_count": 19,
   "id": "6aa51499",
   "metadata": {},
   "outputs": [],
   "source": [
    "link_base = 'https://data.usajobs.gov'"
   ]
  },
  {
   "cell_type": "code",
   "execution_count": 20,
   "id": "d612d7ae",
   "metadata": {},
   "outputs": [
    {
     "data": {
      "text/plain": [
       "'https://data.usajobs.gov/api/historicjoa?pagesize=1000&pagenumber=2'"
      ]
     },
     "execution_count": 20,
     "metadata": {},
     "output_type": "execute_result"
    }
   ],
   "source": [
    "link_suffix = usa_jobs_results[list(usa_jobs_results)[0]]['next']\n",
    "link = link_base + link_suffix\n",
    "link"
   ]
  },
  {
   "cell_type": "code",
   "execution_count": 21,
   "id": "fa09ecbc",
   "metadata": {},
   "outputs": [],
   "source": [
    "# data & page lists\n",
    "\n",
    "usa_jobs_URLs = []\n",
    "usa_jobs_data = []"
   ]
  },
  {
   "cell_type": "code",
   "execution_count": 22,
   "id": "0fda8484",
   "metadata": {},
   "outputs": [],
   "source": [
    "first_page = 'https://data.usajobs.gov/api/historicjoa'\n",
    "usa_jobs_URLs.append(first_page)"
   ]
  },
  {
   "cell_type": "code",
   "execution_count": 23,
   "id": "0e842f08",
   "metadata": {},
   "outputs": [],
   "source": [
    "usa_jobs_data.append(usa_jobs_results[list(usa_jobs_results)[1]])"
   ]
  },
  {
   "cell_type": "code",
   "execution_count": 24,
   "id": "96f3fcd8",
   "metadata": {},
   "outputs": [
    {
     "data": {
      "text/plain": [
       "'https://data.usajobs.gov/api/historicjoa'"
      ]
     },
     "execution_count": 24,
     "metadata": {},
     "output_type": "execute_result"
    }
   ],
   "source": [
    "usa_jobs_URLs[-1]"
   ]
  },
  {
   "cell_type": "code",
   "execution_count": 25,
   "id": "9d63296c",
   "metadata": {},
   "outputs": [
    {
     "data": {
      "text/plain": [
       "list"
      ]
     },
     "execution_count": 25,
     "metadata": {},
     "output_type": "execute_result"
    }
   ],
   "source": [
    "type(usa_jobs_data)"
   ]
  },
  {
   "cell_type": "code",
   "execution_count": 26,
   "id": "a8b62f08",
   "metadata": {},
   "outputs": [
    {
     "data": {
      "text/plain": [
       "100"
      ]
     },
     "execution_count": 26,
     "metadata": {},
     "output_type": "execute_result"
    }
   ],
   "source": [
    "page_1 = list(range(1,1+100))\n",
    "len(page_1)"
   ]
  },
  {
   "cell_type": "code",
   "execution_count": 27,
   "id": "7ee377b3",
   "metadata": {},
   "outputs": [],
   "source": [
    "# # dataframe 01\n",
    "\n",
    "# for x in page_1:\n",
    "\n",
    "#     link = usa_jobs_URLs[-1]\n",
    "    \n",
    "#     # connection\n",
    "#     usa_jobs = requests.get(link)\n",
    "#     usa_jobs_results = usa_jobs.json()\n",
    "\n",
    "#     # links\n",
    "#     link_suffix = usa_jobs_results[list(usa_jobs_results)[0]]['next']\n",
    "#     link = link_base + link_suffix\n",
    "#     usa_jobs_URLs.append(link)\n",
    "\n",
    "#     # data\n",
    "#     usa_jobs_data.append(usa_jobs_results[list(usa_jobs_results)[1]])    \n",
    "    "
   ]
  },
  {
   "cell_type": "code",
   "execution_count": 28,
   "id": "b4067766",
   "metadata": {},
   "outputs": [
    {
     "data": {
      "text/plain": [
       "1"
      ]
     },
     "execution_count": 28,
     "metadata": {},
     "output_type": "execute_result"
    }
   ],
   "source": [
    "len(usa_jobs_URLs)"
   ]
  },
  {
   "cell_type": "code",
   "execution_count": 29,
   "id": "527de7e6",
   "metadata": {},
   "outputs": [],
   "source": [
    "# usa_jobs_URLs"
   ]
  },
  {
   "cell_type": "code",
   "execution_count": 30,
   "id": "2ea3cc57",
   "metadata": {},
   "outputs": [
    {
     "data": {
      "text/plain": [
       "1"
      ]
     },
     "execution_count": 30,
     "metadata": {},
     "output_type": "execute_result"
    }
   ],
   "source": [
    "len(usa_jobs_data)"
   ]
  },
  {
   "cell_type": "code",
   "execution_count": 31,
   "id": "bab3073b",
   "metadata": {},
   "outputs": [
    {
     "name": "stdout",
     "output_type": "stream",
     "text": [
      "1000\n"
     ]
    }
   ],
   "source": [
    "sum = 0\n",
    "\n",
    "for x in usa_jobs_data:\n",
    "    sum = sum + len(x)\n",
    "    \n",
    "print(sum)"
   ]
  },
  {
   "cell_type": "code",
   "execution_count": 32,
   "id": "df707690",
   "metadata": {},
   "outputs": [],
   "source": [
    "# # concat dataframe 01\n",
    "\n",
    "# usa_jobs = pd.DataFrame()\n",
    "\n",
    "# for data in usa_jobs_data:\n",
    "    \n",
    "#     usa_jobs_x = pd.DataFrame(data)\n",
    "#     usa_jobs = pd.concat([usa_jobs,usa_jobs_x], axis = 0)\n",
    "\n",
    "# print(usa_jobs.shape)\n",
    "# usa_jobs.head()"
   ]
  },
  {
   "cell_type": "code",
   "execution_count": 33,
   "id": "c2e8bbb1",
   "metadata": {},
   "outputs": [],
   "source": [
    "# # save as .csv\n",
    "\n",
    "# usa_jobs.to_csv('usa_jobs_0100.csv', index=False)"
   ]
  },
  {
   "cell_type": "code",
   "execution_count": 34,
   "id": "ee60a682",
   "metadata": {},
   "outputs": [
    {
     "data": {
      "text/plain": [
       "100"
      ]
     },
     "execution_count": 34,
     "metadata": {},
     "output_type": "execute_result"
    }
   ],
   "source": [
    "page_101 = list(range(101,101+100))\n",
    "len(page_101)"
   ]
  },
  {
   "cell_type": "code",
   "execution_count": 35,
   "id": "945e7a7a",
   "metadata": {},
   "outputs": [],
   "source": [
    "# # dataframe 02\n",
    "\n",
    "# usa_jobs_data = []\n",
    "\n",
    "# for x in page_101:\n",
    "\n",
    "#     link = usa_jobs_URLs[-1]\n",
    "    \n",
    "#     # connection\n",
    "#     usa_jobs = requests.get(link)\n",
    "#     usa_jobs_results = usa_jobs.json()\n",
    "\n",
    "#     # links\n",
    "#     link_suffix = usa_jobs_results[list(usa_jobs_results)[0]]['next']\n",
    "#     link = link_base + link_suffix\n",
    "#     usa_jobs_URLs.append(link)\n",
    "\n",
    "#     # data\n",
    "#     usa_jobs_data.append(usa_jobs_results[list(usa_jobs_results)[1]])    \n",
    "    "
   ]
  },
  {
   "cell_type": "code",
   "execution_count": 36,
   "id": "46691326",
   "metadata": {},
   "outputs": [
    {
     "name": "stdout",
     "output_type": "stream",
     "text": [
      "['https://data.usajobs.gov/api/historicjoa']\n"
     ]
    },
    {
     "data": {
      "text/plain": [
       "1"
      ]
     },
     "execution_count": 36,
     "metadata": {},
     "output_type": "execute_result"
    }
   ],
   "source": [
    "print(usa_jobs_URLs)\n",
    "len(usa_jobs_URLs)"
   ]
  },
  {
   "cell_type": "code",
   "execution_count": 37,
   "id": "e949b2ce",
   "metadata": {},
   "outputs": [
    {
     "data": {
      "text/plain": [
       "1"
      ]
     },
     "execution_count": 37,
     "metadata": {},
     "output_type": "execute_result"
    }
   ],
   "source": [
    "len(usa_jobs_data)"
   ]
  },
  {
   "cell_type": "code",
   "execution_count": 38,
   "id": "51deccea",
   "metadata": {},
   "outputs": [
    {
     "name": "stdout",
     "output_type": "stream",
     "text": [
      "1000\n"
     ]
    }
   ],
   "source": [
    "sum = 0\n",
    "\n",
    "for x in usa_jobs_data:\n",
    "    sum = sum + len(x)\n",
    "    \n",
    "print(sum)"
   ]
  },
  {
   "cell_type": "code",
   "execution_count": 39,
   "id": "26ecb37c",
   "metadata": {},
   "outputs": [
    {
     "data": {
      "text/plain": [
       "1000"
      ]
     },
     "execution_count": 39,
     "metadata": {},
     "output_type": "execute_result"
    }
   ],
   "source": [
    "len(usa_jobs_data[0])"
   ]
  },
  {
   "cell_type": "code",
   "execution_count": 40,
   "id": "37331964",
   "metadata": {},
   "outputs": [],
   "source": [
    "# # concat dataframe 02\n",
    "\n",
    "# usa_jobs = pd.DataFrame()\n",
    "\n",
    "# for data in usa_jobs_data:\n",
    "    \n",
    "#     usa_jobs_x = pd.DataFrame(data)\n",
    "#     usa_jobs = pd.concat([usa_jobs,usa_jobs_x], axis = 0)\n",
    "\n",
    "# print(usa_jobs.shape)\n",
    "# usa_jobs.head()"
   ]
  },
  {
   "cell_type": "code",
   "execution_count": 41,
   "id": "da8ba4cd",
   "metadata": {},
   "outputs": [],
   "source": [
    "# # save as .csv\n",
    "\n",
    "# usa_jobs.to_csv('usa_jobs_0200.csv', index=False)"
   ]
  },
  {
   "cell_type": "code",
   "execution_count": 42,
   "id": "0114b7f0",
   "metadata": {},
   "outputs": [
    {
     "data": {
      "text/plain": [
       "100"
      ]
     },
     "execution_count": 42,
     "metadata": {},
     "output_type": "execute_result"
    }
   ],
   "source": [
    "page_201 = list(range(201,201+100))\n",
    "len(page_201)"
   ]
  },
  {
   "cell_type": "code",
   "execution_count": 43,
   "id": "10db375e",
   "metadata": {},
   "outputs": [],
   "source": [
    "# # dataframe 03\n",
    "\n",
    "# usa_jobs_data = []\n",
    "\n",
    "# for x in page_201:\n",
    "\n",
    "#     link = usa_jobs_URLs[-1]\n",
    "    \n",
    "#     # connection\n",
    "#     usa_jobs = requests.get(link)\n",
    "#     usa_jobs_results = usa_jobs.json()\n",
    "\n",
    "#     # links\n",
    "#     link_suffix = usa_jobs_results[list(usa_jobs_results)[0]]['next']\n",
    "#     link = link_base + link_suffix\n",
    "#     usa_jobs_URLs.append(link)\n",
    "\n",
    "#     # data\n",
    "#     usa_jobs_data.append(usa_jobs_results[list(usa_jobs_results)[1]])\n",
    "    "
   ]
  },
  {
   "cell_type": "code",
   "execution_count": 44,
   "id": "4e46bde0",
   "metadata": {},
   "outputs": [
    {
     "data": {
      "text/plain": [
       "1"
      ]
     },
     "execution_count": 44,
     "metadata": {},
     "output_type": "execute_result"
    }
   ],
   "source": [
    "len(usa_jobs_URLs)"
   ]
  },
  {
   "cell_type": "code",
   "execution_count": 45,
   "id": "e5a29a7a",
   "metadata": {},
   "outputs": [
    {
     "data": {
      "text/plain": [
       "1"
      ]
     },
     "execution_count": 45,
     "metadata": {},
     "output_type": "execute_result"
    }
   ],
   "source": [
    "len(usa_jobs_data)"
   ]
  },
  {
   "cell_type": "code",
   "execution_count": 46,
   "id": "e09e7d5d",
   "metadata": {},
   "outputs": [
    {
     "data": {
      "text/plain": [
       "1000"
      ]
     },
     "execution_count": 46,
     "metadata": {},
     "output_type": "execute_result"
    }
   ],
   "source": [
    "len(usa_jobs_data[0])"
   ]
  },
  {
   "cell_type": "code",
   "execution_count": 47,
   "id": "ba9cfebc",
   "metadata": {},
   "outputs": [],
   "source": [
    "# # concat dataframe 03\n",
    "\n",
    "# usa_jobs = pd.DataFrame()\n",
    "\n",
    "# for data in usa_jobs_data:\n",
    "    \n",
    "#     usa_jobs_x = pd.DataFrame(data)\n",
    "#     usa_jobs = pd.concat([usa_jobs,usa_jobs_x], axis = 0)\n",
    "\n",
    "# print(usa_jobs.shape)\n",
    "# usa_jobs.head()"
   ]
  },
  {
   "cell_type": "code",
   "execution_count": 48,
   "id": "8f6d8d16",
   "metadata": {},
   "outputs": [],
   "source": [
    "# # save as .csv\n",
    "\n",
    "# usa_jobs.to_csv('usa_jobs_0300.csv', index=False)"
   ]
  },
  {
   "cell_type": "code",
   "execution_count": 49,
   "id": "fa1eb35a",
   "metadata": {},
   "outputs": [
    {
     "data": {
      "text/plain": [
       "100"
      ]
     },
     "execution_count": 49,
     "metadata": {},
     "output_type": "execute_result"
    }
   ],
   "source": [
    "page_301 = list(range(301,301+100))\n",
    "len(page_301)"
   ]
  },
  {
   "cell_type": "code",
   "execution_count": 50,
   "id": "7fe6d81b",
   "metadata": {},
   "outputs": [],
   "source": [
    "# # dataframe 04\n",
    "\n",
    "# usa_jobs_data = []\n",
    "\n",
    "# for x in page_301:\n",
    "\n",
    "#     link = usa_jobs_URLs[-1]\n",
    "    \n",
    "#     # connection\n",
    "#     usa_jobs = requests.get(link)\n",
    "#     usa_jobs_results = usa_jobs.json()\n",
    "\n",
    "#     # links\n",
    "#     link_suffix = usa_jobs_results[list(usa_jobs_results)[0]]['next']\n",
    "#     link = link_base + link_suffix\n",
    "#     usa_jobs_URLs.append(link)\n",
    "\n",
    "#     # data\n",
    "#     usa_jobs_data.append(usa_jobs_results[list(usa_jobs_results)[1]])\n",
    "    "
   ]
  },
  {
   "cell_type": "code",
   "execution_count": 51,
   "id": "fd977845",
   "metadata": {},
   "outputs": [
    {
     "data": {
      "text/plain": [
       "1"
      ]
     },
     "execution_count": 51,
     "metadata": {},
     "output_type": "execute_result"
    }
   ],
   "source": [
    "len(usa_jobs_URLs)"
   ]
  },
  {
   "cell_type": "code",
   "execution_count": 52,
   "id": "427f2998",
   "metadata": {},
   "outputs": [
    {
     "data": {
      "text/plain": [
       "1"
      ]
     },
     "execution_count": 52,
     "metadata": {},
     "output_type": "execute_result"
    }
   ],
   "source": [
    "len(usa_jobs_data)"
   ]
  },
  {
   "cell_type": "code",
   "execution_count": 53,
   "id": "756c0af4",
   "metadata": {},
   "outputs": [
    {
     "name": "stdout",
     "output_type": "stream",
     "text": [
      "1000\n"
     ]
    }
   ],
   "source": [
    "sum = 0\n",
    "\n",
    "for x in usa_jobs_data:\n",
    "    sum = sum + len(x)\n",
    "    \n",
    "print(sum)"
   ]
  },
  {
   "cell_type": "code",
   "execution_count": 54,
   "id": "eaa9fbb1",
   "metadata": {},
   "outputs": [
    {
     "data": {
      "text/plain": [
       "1000"
      ]
     },
     "execution_count": 54,
     "metadata": {},
     "output_type": "execute_result"
    }
   ],
   "source": [
    "len(usa_jobs_data[0])"
   ]
  },
  {
   "cell_type": "code",
   "execution_count": 55,
   "id": "6f65ebb2",
   "metadata": {},
   "outputs": [],
   "source": [
    "# # concat dataframe 04\n",
    "\n",
    "# usa_jobs = pd.DataFrame()\n",
    "\n",
    "# for data in usa_jobs_data:\n",
    "    \n",
    "#     usa_jobs_x = pd.DataFrame(data)\n",
    "#     usa_jobs = pd.concat([usa_jobs,usa_jobs_x], axis = 0)\n",
    "\n",
    "# print(usa_jobs.shape)\n",
    "# usa_jobs.head()"
   ]
  },
  {
   "cell_type": "code",
   "execution_count": 56,
   "id": "80155eee",
   "metadata": {},
   "outputs": [],
   "source": [
    "# # save as .csv\n",
    "\n",
    "# usa_jobs.to_csv('usa_jobs_0400.csv', index=False)"
   ]
  },
  {
   "cell_type": "code",
   "execution_count": 57,
   "id": "2eaca02f",
   "metadata": {},
   "outputs": [
    {
     "data": {
      "text/plain": [
       "100"
      ]
     },
     "execution_count": 57,
     "metadata": {},
     "output_type": "execute_result"
    }
   ],
   "source": [
    "page_401 = list(range(401,401+100))\n",
    "len(page_401)"
   ]
  },
  {
   "cell_type": "code",
   "execution_count": 58,
   "id": "bd0d1538",
   "metadata": {},
   "outputs": [
    {
     "data": {
      "text/plain": [
       "1"
      ]
     },
     "execution_count": 58,
     "metadata": {},
     "output_type": "execute_result"
    }
   ],
   "source": [
    "len(usa_jobs_data)"
   ]
  },
  {
   "cell_type": "code",
   "execution_count": 59,
   "id": "5f64a4bf",
   "metadata": {},
   "outputs": [],
   "source": [
    "usa_jobs_URLs= []"
   ]
  },
  {
   "cell_type": "code",
   "execution_count": 60,
   "id": "9d3d0024",
   "metadata": {},
   "outputs": [],
   "source": [
    "usa_jobs_URLs.append('https://data.usajobs.gov/api/historicjoa?pagesize=1000&pagenumber=401')"
   ]
  },
  {
   "cell_type": "code",
   "execution_count": 61,
   "id": "ef4e49bd",
   "metadata": {},
   "outputs": [
    {
     "data": {
      "text/plain": [
       "'https://data.usajobs.gov/api/historicjoa?pagesize=1000&pagenumber=401'"
      ]
     },
     "execution_count": 61,
     "metadata": {},
     "output_type": "execute_result"
    }
   ],
   "source": [
    "usa_jobs_URLs[-1]"
   ]
  },
  {
   "cell_type": "code",
   "execution_count": 62,
   "id": "431e05f7",
   "metadata": {},
   "outputs": [],
   "source": [
    "usa_jobs_data = []"
   ]
  },
  {
   "cell_type": "code",
   "execution_count": 63,
   "id": "12e97c2b",
   "metadata": {},
   "outputs": [],
   "source": [
    "# # dataframe 05\n",
    "\n",
    "# for x in page_401:\n",
    "\n",
    "#     link = usa_jobs_URLs[-1]\n",
    "    \n",
    "#     # connection\n",
    "#     usa_jobs = requests.get(link)\n",
    "#     usa_jobs_results = usa_jobs.json()\n",
    "\n",
    "#     # links\n",
    "#     link_suffix = usa_jobs_results[list(usa_jobs_results)[0]]['next']\n",
    "#     link = link_base + link_suffix\n",
    "#     usa_jobs_URLs.append(link)\n",
    "\n",
    "#     # data\n",
    "#     usa_jobs_data.append(usa_jobs_results[list(usa_jobs_results)[1]])\n",
    "    "
   ]
  },
  {
   "cell_type": "code",
   "execution_count": 68,
   "id": "4f363ab2",
   "metadata": {},
   "outputs": [],
   "source": [
    "# # concat dataframe 05\n",
    "\n",
    "# usa_jobs = pd.DataFrame()\n",
    "\n",
    "# for data in usa_jobs_data:\n",
    "    \n",
    "#     usa_jobs_x = pd.DataFrame(data)\n",
    "#     usa_jobs = pd.concat([usa_jobs,usa_jobs_x], axis = 0)\n",
    "\n",
    "# print(usa_jobs.shape)\n",
    "# usa_jobs.head()"
   ]
  },
  {
   "cell_type": "code",
   "execution_count": 69,
   "id": "375cefa0",
   "metadata": {},
   "outputs": [],
   "source": [
    "# # save as .csv\n",
    "\n",
    "# usa_jobs.to_csv('usa_jobs_0500.csv', index=False)"
   ]
  },
  {
   "cell_type": "code",
   "execution_count": 70,
   "id": "57403106",
   "metadata": {},
   "outputs": [
    {
     "data": {
      "text/plain": [
       "100"
      ]
     },
     "execution_count": 70,
     "metadata": {},
     "output_type": "execute_result"
    }
   ],
   "source": [
    "page_501 = list(range(501,501+100))\n",
    "len(page_501)"
   ]
  },
  {
   "cell_type": "code",
   "execution_count": 71,
   "id": "abb0eeb7",
   "metadata": {},
   "outputs": [],
   "source": [
    "usa_jobs_data = []"
   ]
  },
  {
   "cell_type": "code",
   "execution_count": 72,
   "id": "bc72e255",
   "metadata": {},
   "outputs": [],
   "source": [
    "# # dataframe 6\n",
    "\n",
    "# for x in page_501:\n",
    "\n",
    "#     link = usa_jobs_URLs[-1]\n",
    "    \n",
    "#     # connection\n",
    "#     usa_jobs = requests.get(link)\n",
    "#     usa_jobs_results = usa_jobs.json()\n",
    "\n",
    "#     # links\n",
    "#     link_suffix = usa_jobs_results[list(usa_jobs_results)[0]]['next']\n",
    "#     link = link_base + link_suffix\n",
    "#     usa_jobs_URLs.append(link)\n",
    "\n",
    "#     # data\n",
    "#     usa_jobs_data.append(usa_jobs_results[list(usa_jobs_results)[1]])\n",
    "    "
   ]
  },
  {
   "cell_type": "code",
   "execution_count": 73,
   "id": "1bb6e492",
   "metadata": {},
   "outputs": [],
   "source": [
    "# # concat dataframe 06\n",
    "\n",
    "# usa_jobs = pd.DataFrame()\n",
    "\n",
    "# for data in usa_jobs_data:\n",
    "    \n",
    "#     usa_jobs_x = pd.DataFrame(data)\n",
    "#     usa_jobs = pd.concat([usa_jobs,usa_jobs_x], axis = 0)\n",
    "\n",
    "# print(usa_jobs.shape)\n",
    "# usa_jobs.head()"
   ]
  },
  {
   "cell_type": "code",
   "execution_count": 74,
   "id": "895876a3",
   "metadata": {},
   "outputs": [],
   "source": [
    "# # save as .csv\n",
    "\n",
    "# usa_jobs.to_csv('usa_jobs_0600.csv', index=False)"
   ]
  },
  {
   "cell_type": "code",
   "execution_count": 75,
   "id": "d6856110",
   "metadata": {},
   "outputs": [
    {
     "data": {
      "text/plain": [
       "100"
      ]
     },
     "execution_count": 75,
     "metadata": {},
     "output_type": "execute_result"
    }
   ],
   "source": [
    "page_601 = list(range(601,601+100))\n",
    "len(page_601)"
   ]
  },
  {
   "cell_type": "code",
   "execution_count": 76,
   "id": "e57ca954",
   "metadata": {},
   "outputs": [],
   "source": [
    "usa_jobs_data = []"
   ]
  },
  {
   "cell_type": "code",
   "execution_count": 77,
   "id": "e245b580",
   "metadata": {},
   "outputs": [],
   "source": [
    "# # dataframe 07\n",
    "\n",
    "# for x in page_601:\n",
    "\n",
    "#     link = usa_jobs_URLs[-1]\n",
    "    \n",
    "#     # connection\n",
    "#     usa_jobs = requests.get(link)\n",
    "#     usa_jobs_results = usa_jobs.json()\n",
    "\n",
    "#     # links\n",
    "#     link_suffix = usa_jobs_results[list(usa_jobs_results)[0]]['next']\n",
    "#     link = link_base + link_suffix\n",
    "#     usa_jobs_URLs.append(link)\n",
    "\n",
    "#     # data\n",
    "#     usa_jobs_data.append(usa_jobs_results[list(usa_jobs_results)[1]])\n",
    "    "
   ]
  },
  {
   "cell_type": "code",
   "execution_count": 78,
   "id": "91a27dd9",
   "metadata": {},
   "outputs": [],
   "source": [
    "# # concat dataframe 07\n",
    "\n",
    "# usa_jobs = pd.DataFrame()\n",
    "\n",
    "# for data in usa_jobs_data:\n",
    "    \n",
    "#     usa_jobs_x = pd.DataFrame(data)\n",
    "#     usa_jobs = pd.concat([usa_jobs,usa_jobs_x], axis = 0)\n",
    "\n",
    "# print(usa_jobs.shape)\n",
    "# usa_jobs.head()"
   ]
  },
  {
   "cell_type": "code",
   "execution_count": 79,
   "id": "16b188dd",
   "metadata": {},
   "outputs": [],
   "source": [
    "# # save as .csv\n",
    "\n",
    "# usa_jobs.to_csv('usa_jobs_0700.csv', index=False)"
   ]
  },
  {
   "cell_type": "code",
   "execution_count": 80,
   "id": "ab904cff",
   "metadata": {},
   "outputs": [
    {
     "data": {
      "text/plain": [
       "100"
      ]
     },
     "execution_count": 80,
     "metadata": {},
     "output_type": "execute_result"
    }
   ],
   "source": [
    "page_701 = list(range(701,701+100))\n",
    "len(page_701)"
   ]
  },
  {
   "cell_type": "code",
   "execution_count": 81,
   "id": "2384b212",
   "metadata": {},
   "outputs": [],
   "source": [
    "usa_jobs_data = []"
   ]
  },
  {
   "cell_type": "code",
   "execution_count": 82,
   "id": "ad3d547c",
   "metadata": {},
   "outputs": [],
   "source": [
    "# # dataframe 08\n",
    "\n",
    "# for x in page_701:\n",
    "\n",
    "#     link = usa_jobs_URLs[-1]\n",
    "    \n",
    "#     # connection\n",
    "#     usa_jobs = requests.get(link)\n",
    "#     usa_jobs_results = usa_jobs.json()\n",
    "\n",
    "#     # links\n",
    "#     link_suffix = usa_jobs_results[list(usa_jobs_results)[0]]['next']\n",
    "#     link = link_base + link_suffix\n",
    "#     usa_jobs_URLs.append(link)\n",
    "\n",
    "#     # data\n",
    "#     usa_jobs_data.append(usa_jobs_results[list(usa_jobs_results)[1]])\n",
    "    "
   ]
  },
  {
   "cell_type": "code",
   "execution_count": 83,
   "id": "910a3660",
   "metadata": {},
   "outputs": [],
   "source": [
    "# # concat dataframe 08\n",
    "\n",
    "# usa_jobs = pd.DataFrame()\n",
    "\n",
    "# for data in usa_jobs_data:\n",
    "    \n",
    "#     usa_jobs_x = pd.DataFrame(data)\n",
    "#     usa_jobs = pd.concat([usa_jobs,usa_jobs_x], axis = 0)\n",
    "\n",
    "# print(usa_jobs.shape)\n",
    "# usa_jobs.head()"
   ]
  },
  {
   "cell_type": "code",
   "execution_count": 84,
   "id": "a3affbf6",
   "metadata": {},
   "outputs": [],
   "source": [
    "# # save as .csv\n",
    "\n",
    "# usa_jobs.to_csv('usa_jobs_0800.csv', index=False)"
   ]
  },
  {
   "cell_type": "code",
   "execution_count": 85,
   "id": "403a6580",
   "metadata": {},
   "outputs": [
    {
     "data": {
      "text/plain": [
       "100"
      ]
     },
     "execution_count": 85,
     "metadata": {},
     "output_type": "execute_result"
    }
   ],
   "source": [
    "page_801 = list(range(801,801+100))\n",
    "len(page_801)"
   ]
  },
  {
   "cell_type": "code",
   "execution_count": 86,
   "id": "eae6db47",
   "metadata": {},
   "outputs": [],
   "source": [
    "usa_jobs_data = []"
   ]
  },
  {
   "cell_type": "code",
   "execution_count": 87,
   "id": "3fdd2b1c",
   "metadata": {},
   "outputs": [],
   "source": [
    "# # concat dataframe 09\n",
    "\n",
    "# for x in page_801:\n",
    "\n",
    "#     link = usa_jobs_URLs[-1]\n",
    "    \n",
    "#     # connection\n",
    "#     usa_jobs = requests.get(link)\n",
    "#     usa_jobs_results = usa_jobs.json()\n",
    "\n",
    "#     # links\n",
    "#     link_suffix = usa_jobs_results[list(usa_jobs_results)[0]]['next']\n",
    "#     link = link_base + link_suffix\n",
    "#     usa_jobs_URLs.append(link)\n",
    "\n",
    "#     # data\n",
    "#     usa_jobs_data.append(usa_jobs_results[list(usa_jobs_results)[1]])\n",
    "    "
   ]
  },
  {
   "cell_type": "code",
   "execution_count": 88,
   "id": "52684a64",
   "metadata": {},
   "outputs": [],
   "source": [
    "# # concat dataframe 09\n",
    "\n",
    "# usa_jobs = pd.DataFrame()\n",
    "\n",
    "# for data in usa_jobs_data:\n",
    "    \n",
    "#     usa_jobs_x = pd.DataFrame(data)\n",
    "#     usa_jobs = pd.concat([usa_jobs,usa_jobs_x], axis = 0)\n",
    "\n",
    "# print(usa_jobs.shape)\n",
    "# usa_jobs.head()"
   ]
  },
  {
   "cell_type": "code",
   "execution_count": 89,
   "id": "3f9ecd8f",
   "metadata": {},
   "outputs": [],
   "source": [
    "# # save as .csv\n",
    "\n",
    "# usa_jobs.to_csv('usa_jobs_0900.csv', index=False)"
   ]
  },
  {
   "cell_type": "code",
   "execution_count": 90,
   "id": "11adea7b",
   "metadata": {},
   "outputs": [
    {
     "data": {
      "text/plain": [
       "100"
      ]
     },
     "execution_count": 90,
     "metadata": {},
     "output_type": "execute_result"
    }
   ],
   "source": [
    "page_901 = list(range(901,901+100))\n",
    "len(page_901)"
   ]
  },
  {
   "cell_type": "code",
   "execution_count": 91,
   "id": "0d333466",
   "metadata": {},
   "outputs": [],
   "source": [
    "usa_jobs_data = []"
   ]
  },
  {
   "cell_type": "code",
   "execution_count": 92,
   "id": "9540a3bf",
   "metadata": {},
   "outputs": [],
   "source": [
    "# # dataframe 10\n",
    "\n",
    "# for x in page_901:\n",
    "\n",
    "#     link = usa_jobs_URLs[-1]\n",
    "    \n",
    "#     # connection\n",
    "#     usa_jobs = requests.get(link)\n",
    "#     usa_jobs_results = usa_jobs.json()\n",
    "\n",
    "#     # links\n",
    "#     link_suffix = usa_jobs_results[list(usa_jobs_results)[0]]['next']\n",
    "#     link = link_base + link_suffix\n",
    "#     usa_jobs_URLs.append(link)\n",
    "\n",
    "#     # data\n",
    "#     usa_jobs_data.append(usa_jobs_results[list(usa_jobs_results)[1]])\n",
    "    "
   ]
  },
  {
   "cell_type": "code",
   "execution_count": 93,
   "id": "8faad3c3",
   "metadata": {},
   "outputs": [],
   "source": [
    "# # concat dataframe 10\n",
    "\n",
    "# usa_jobs = pd.DataFrame()\n",
    "\n",
    "# for data in usa_jobs_data:\n",
    "    \n",
    "#     usa_jobs_x = pd.DataFrame(data)\n",
    "#     usa_jobs = pd.concat([usa_jobs,usa_jobs_x], axis = 0)\n",
    "\n",
    "# print(usa_jobs.shape)\n",
    "# usa_jobs.head()"
   ]
  },
  {
   "cell_type": "code",
   "execution_count": 94,
   "id": "366f62e3",
   "metadata": {},
   "outputs": [],
   "source": [
    "# # save as .csv\n",
    "\n",
    "# usa_jobs.to_csv('usa_jobs_1000.csv', index=False)"
   ]
  },
  {
   "cell_type": "code",
   "execution_count": 95,
   "id": "751970f0",
   "metadata": {},
   "outputs": [
    {
     "data": {
      "text/plain": [
       "100"
      ]
     },
     "execution_count": 95,
     "metadata": {},
     "output_type": "execute_result"
    }
   ],
   "source": [
    "page_1001 = list(range(1001,1001+100))\n",
    "len(page_1001)"
   ]
  },
  {
   "cell_type": "code",
   "execution_count": 96,
   "id": "2620475c",
   "metadata": {},
   "outputs": [],
   "source": [
    "usa_jobs_data = []"
   ]
  },
  {
   "cell_type": "code",
   "execution_count": 97,
   "id": "34a1ea55",
   "metadata": {},
   "outputs": [],
   "source": [
    "# # concat dataframe 11\n",
    "\n",
    "# for x in page_1001:\n",
    "\n",
    "#     link = usa_jobs_URLs[-1]\n",
    "    \n",
    "#     # connection\n",
    "#     usa_jobs = requests.get(link)\n",
    "#     usa_jobs_results = usa_jobs.json()\n",
    "\n",
    "#     # links\n",
    "#     link_suffix = usa_jobs_results[list(usa_jobs_results)[0]]['next']\n",
    "#     link = link_base + link_suffix\n",
    "#     usa_jobs_URLs.append(link)\n",
    "\n",
    "#     # data\n",
    "#     usa_jobs_data.append(usa_jobs_results[list(usa_jobs_results)[1]])\n",
    "    "
   ]
  },
  {
   "cell_type": "code",
   "execution_count": 98,
   "id": "85e7d14f",
   "metadata": {},
   "outputs": [],
   "source": [
    "# # concat dataframe 11\n",
    "\n",
    "# usa_jobs = pd.DataFrame()\n",
    "\n",
    "# for data in usa_jobs_data:\n",
    "    \n",
    "#     usa_jobs_x = pd.DataFrame(data)\n",
    "#     usa_jobs = pd.concat([usa_jobs,usa_jobs_x], axis = 0)\n",
    "\n",
    "# print(usa_jobs.shape)\n",
    "# usa_jobs.head()"
   ]
  },
  {
   "cell_type": "code",
   "execution_count": 99,
   "id": "a8dda869",
   "metadata": {},
   "outputs": [],
   "source": [
    "# # save as .csv\n",
    "\n",
    "# usa_jobs.to_csv('usa_jobs_1100.csv', index=False)"
   ]
  },
  {
   "cell_type": "code",
   "execution_count": 100,
   "id": "9709c706",
   "metadata": {},
   "outputs": [
    {
     "data": {
      "text/plain": [
       "100"
      ]
     },
     "execution_count": 100,
     "metadata": {},
     "output_type": "execute_result"
    }
   ],
   "source": [
    "page_1101 = list(range(1101,1101+100))\n",
    "len(page_1101)"
   ]
  },
  {
   "cell_type": "code",
   "execution_count": 101,
   "id": "183f3e6b",
   "metadata": {},
   "outputs": [],
   "source": [
    "usa_jobs_data = []"
   ]
  },
  {
   "cell_type": "code",
   "execution_count": 102,
   "id": "9a971b47",
   "metadata": {},
   "outputs": [],
   "source": [
    "# # concat dataframe 12\n",
    "\n",
    "# for x in page_1101:\n",
    "\n",
    "#     link = usa_jobs_URLs[-1]\n",
    "    \n",
    "#     # connection\n",
    "#     usa_jobs = requests.get(link)\n",
    "#     usa_jobs_results = usa_jobs.json()\n",
    "\n",
    "#     # links\n",
    "#     link_suffix = usa_jobs_results[list(usa_jobs_results)[0]]['next']\n",
    "#     link = link_base + link_suffix\n",
    "#     usa_jobs_URLs.append(link)\n",
    "\n",
    "#     # data\n",
    "#     usa_jobs_data.append(usa_jobs_results[list(usa_jobs_results)[1]])\n",
    "    "
   ]
  },
  {
   "cell_type": "code",
   "execution_count": 103,
   "id": "716c11a5",
   "metadata": {},
   "outputs": [],
   "source": [
    "# # concat dataframe 12\n",
    "\n",
    "# usa_jobs = pd.DataFrame()\n",
    "\n",
    "# for data in usa_jobs_data:\n",
    "    \n",
    "#     usa_jobs_x = pd.DataFrame(data)\n",
    "#     usa_jobs = pd.concat([usa_jobs,usa_jobs_x], axis = 0)\n",
    "\n",
    "# print(usa_jobs.shape)\n",
    "# usa_jobs.head()"
   ]
  },
  {
   "cell_type": "code",
   "execution_count": 104,
   "id": "6df8060f",
   "metadata": {},
   "outputs": [],
   "source": [
    "# # save as .csv\n",
    "\n",
    "# usa_jobs.to_csv('usa_jobs_1200.csv', index=False)"
   ]
  },
  {
   "cell_type": "code",
   "execution_count": 105,
   "id": "722725f8",
   "metadata": {},
   "outputs": [
    {
     "data": {
      "text/plain": [
       "100"
      ]
     },
     "execution_count": 105,
     "metadata": {},
     "output_type": "execute_result"
    }
   ],
   "source": [
    "page_1201 = list(range(1201,1201+100))\n",
    "len(page_1201)"
   ]
  },
  {
   "cell_type": "code",
   "execution_count": 106,
   "id": "e3c25cdf",
   "metadata": {},
   "outputs": [],
   "source": [
    "usa_jobs_data = []"
   ]
  },
  {
   "cell_type": "code",
   "execution_count": 107,
   "id": "e73ed468",
   "metadata": {},
   "outputs": [],
   "source": [
    "# # dataframe 13\n",
    "\n",
    "# for x in page_1201:\n",
    "\n",
    "#     link = usa_jobs_URLs_1201[-1]\n",
    "    \n",
    "#     # connection\n",
    "#     usa_jobs = requests.get(link)\n",
    "#     usa_jobs_results = usa_jobs.json()\n",
    "\n",
    "#     # links\n",
    "#     link_suffix = usa_jobs_results[list(usa_jobs_results)[0]]['next']\n",
    "#     link = link_base + link_suffix\n",
    "#     usa_jobs_URLs.append(link)\n",
    "\n",
    "#     # data\n",
    "#     usa_jobs_data.append(usa_jobs_results[list(usa_jobs_results)[1]])\n",
    "    "
   ]
  },
  {
   "cell_type": "code",
   "execution_count": 108,
   "id": "d530c019",
   "metadata": {},
   "outputs": [],
   "source": [
    "# # dataframe 13\n",
    "\n",
    "# usa_jobs = pd.DataFrame()\n",
    "\n",
    "# for data in usa_jobs_data:\n",
    "    \n",
    "#     usa_jobs_x = pd.DataFrame(data)\n",
    "#     usa_jobs = pd.concat([usa_jobs,usa_jobs_x], axis = 0)\n",
    "\n",
    "# print(usa_jobs.shape)\n",
    "# usa_jobs.head()"
   ]
  },
  {
   "cell_type": "code",
   "execution_count": 109,
   "id": "f1576ee1",
   "metadata": {},
   "outputs": [],
   "source": [
    "# # save as .csv\n",
    "\n",
    "# usa_jobs.to_csv('usa_jobs_1300.csv', index=False)"
   ]
  },
  {
   "cell_type": "code",
   "execution_count": 110,
   "id": "e4498b36",
   "metadata": {},
   "outputs": [
    {
     "data": {
      "text/plain": [
       "100"
      ]
     },
     "execution_count": 110,
     "metadata": {},
     "output_type": "execute_result"
    }
   ],
   "source": [
    "page_1301 = list(range(1301,1301+100))\n",
    "len(page_1301)"
   ]
  },
  {
   "cell_type": "code",
   "execution_count": 111,
   "id": "11f8ef24",
   "metadata": {},
   "outputs": [],
   "source": [
    "usa_jobs_data = []"
   ]
  },
  {
   "cell_type": "code",
   "execution_count": 112,
   "id": "3df17428",
   "metadata": {},
   "outputs": [],
   "source": [
    "# # dataframe 14\n",
    "\n",
    "# for x in page_1388:\n",
    "\n",
    "#     link = usa_jobs_URL_1388[-1]\n",
    "    \n",
    "#     # connection\n",
    "#     usa_jobs = requests.get(link)\n",
    "#     usa_jobs_results = usa_jobs.json()\n",
    "\n",
    "#     # links\n",
    "#     link_suffix = usa_jobs_results[list(usa_jobs_results)[0]]['next']\n",
    "#     link = link_base + link_suffix\n",
    "#     usa_jobs_URLs.append(link)\n",
    "#     usa_jobs_URL_1388.append(link)\n",
    "\n",
    "#     # data\n",
    "#     usa_jobs_data.append(usa_jobs_results[list(usa_jobs_results)[1]])    "
   ]
  },
  {
   "cell_type": "code",
   "execution_count": 113,
   "id": "f6bbdac3",
   "metadata": {},
   "outputs": [],
   "source": [
    "# # concat dataframe 14\n",
    "\n",
    "# usa_jobs = pd.DataFrame()\n",
    "\n",
    "# for data in usa_jobs_data:\n",
    "    \n",
    "#     usa_jobs_x = pd.DataFrame(data)\n",
    "#     usa_jobs = pd.concat([usa_jobs,usa_jobs_x], axis = 0)\n",
    "\n",
    "# print(usa_jobs.shape)\n",
    "# usa_jobs.head()"
   ]
  },
  {
   "cell_type": "code",
   "execution_count": 114,
   "id": "3a5da700",
   "metadata": {},
   "outputs": [],
   "source": [
    "# # save as .csv\n",
    "\n",
    "# usa_jobs.to_csv('usa_jobs_1400.csv', index=False)"
   ]
  },
  {
   "cell_type": "code",
   "execution_count": 120,
   "id": "cd484924",
   "metadata": {},
   "outputs": [],
   "source": [
    "usa_jobs_URLs = []\n",
    "url = 'https://data.usajobs.gov/api/historicjoa?pagesize=1000&pagenumber=1401'\n",
    "usa_jobs_URLs.append(url)"
   ]
  },
  {
   "cell_type": "code",
   "execution_count": 121,
   "id": "bb9d5814",
   "metadata": {},
   "outputs": [
    {
     "data": {
      "text/plain": [
       "'https://data.usajobs.gov/api/historicjoa?pagesize=1000&pagenumber=1401'"
      ]
     },
     "execution_count": 121,
     "metadata": {},
     "output_type": "execute_result"
    }
   ],
   "source": [
    "usa_jobs_URLs[-1]"
   ]
  },
  {
   "cell_type": "code",
   "execution_count": 116,
   "id": "41c0fa6e",
   "metadata": {},
   "outputs": [
    {
     "data": {
      "text/plain": [
       "0"
      ]
     },
     "execution_count": 116,
     "metadata": {},
     "output_type": "execute_result"
    }
   ],
   "source": [
    "len(usa_jobs_data)"
   ]
  },
  {
   "cell_type": "code",
   "execution_count": 117,
   "id": "a1692289",
   "metadata": {},
   "outputs": [
    {
     "data": {
      "text/plain": [
       "100"
      ]
     },
     "execution_count": 117,
     "metadata": {},
     "output_type": "execute_result"
    }
   ],
   "source": [
    "page_1401 = list(range(1401,1401+100))\n",
    "len(page_1401)"
   ]
  },
  {
   "cell_type": "code",
   "execution_count": 122,
   "id": "2464f480",
   "metadata": {},
   "outputs": [],
   "source": [
    "usa_jobs_data = []"
   ]
  },
  {
   "cell_type": "code",
   "execution_count": 123,
   "id": "5de0b080",
   "metadata": {},
   "outputs": [],
   "source": [
    "# dataframe 15\n",
    "for x in page_1401:\n",
    "\n",
    "    link = usa_jobs_URLs[-1]\n",
    "    \n",
    "    # connection\n",
    "    usa_jobs = requests.get(link)\n",
    "    usa_jobs_results = usa_jobs.json()\n",
    "\n",
    "    # links\n",
    "    link_suffix = usa_jobs_results[list(usa_jobs_results)[0]]['next']\n",
    "    link = link_base + link_suffix\n",
    "    usa_jobs_URLs.append(link)\n",
    "\n",
    "    # data\n",
    "    usa_jobs_data.append(usa_jobs_results[list(usa_jobs_results)[1]])\n",
    "    \n",
    "# concat dataframe 15\n",
    "usa_jobs = pd.DataFrame()\n",
    "\n",
    "for data in usa_jobs_data:\n",
    "    \n",
    "    usa_jobs_x = pd.DataFrame(data)\n",
    "    usa_jobs = pd.concat([usa_jobs,usa_jobs_x], axis = 0)\n",
    "\n",
    "\n",
    "# save dataframe 15 as .csv\n",
    "usa_jobs.to_csv('usa_jobs_1500.csv', index=False)"
   ]
  },
  {
   "cell_type": "code",
   "execution_count": 124,
   "id": "06a41deb",
   "metadata": {},
   "outputs": [
    {
     "name": "stdout",
     "output_type": "stream",
     "text": [
      "101\n"
     ]
    },
    {
     "data": {
      "text/plain": [
       "'https://data.usajobs.gov/api/historicjoa?pagesize=1000&pagenumber=1501'"
      ]
     },
     "execution_count": 124,
     "metadata": {},
     "output_type": "execute_result"
    }
   ],
   "source": [
    "print(len(usa_jobs_URLs))\n",
    "usa_jobs_URLs[-1]"
   ]
  },
  {
   "cell_type": "code",
   "execution_count": 125,
   "id": "dbcfd1c5",
   "metadata": {},
   "outputs": [
    {
     "data": {
      "text/plain": [
       "100"
      ]
     },
     "execution_count": 125,
     "metadata": {},
     "output_type": "execute_result"
    }
   ],
   "source": [
    "len(usa_jobs_data)"
   ]
  },
  {
   "cell_type": "code",
   "execution_count": null,
   "id": "31b972f0",
   "metadata": {},
   "outputs": [],
   "source": []
  },
  {
   "cell_type": "code",
   "execution_count": null,
   "id": "9a0f780f",
   "metadata": {},
   "outputs": [],
   "source": []
  },
  {
   "cell_type": "code",
   "execution_count": null,
   "id": "3d23b976",
   "metadata": {},
   "outputs": [],
   "source": []
  },
  {
   "cell_type": "code",
   "execution_count": 126,
   "id": "1c27daea",
   "metadata": {},
   "outputs": [
    {
     "data": {
      "text/plain": [
       "100"
      ]
     },
     "execution_count": 126,
     "metadata": {},
     "output_type": "execute_result"
    }
   ],
   "source": [
    "page_1501 = list(range(1501,1501+100))\n",
    "len(page_1501)"
   ]
  },
  {
   "cell_type": "code",
   "execution_count": 127,
   "id": "8d13c137",
   "metadata": {},
   "outputs": [],
   "source": [
    "usa_jobs_data = []"
   ]
  },
  {
   "cell_type": "code",
   "execution_count": 128,
   "id": "f9e054bd",
   "metadata": {},
   "outputs": [],
   "source": [
    "\n",
    "for x in page_1501:\n",
    "\n",
    "    link = usa_jobs_URLs[-1]\n",
    "    \n",
    "    # connection\n",
    "    usa_jobs = requests.get(link)\n",
    "    usa_jobs_results = usa_jobs.json()\n",
    "\n",
    "    # links\n",
    "    link_suffix = usa_jobs_results[list(usa_jobs_results)[0]]['next']\n",
    "    link = link_base + link_suffix\n",
    "    usa_jobs_URLs.append(link)\n",
    "\n",
    "    # data\n",
    "    usa_jobs_data.append(usa_jobs_results[list(usa_jobs_results)[1]])\n",
    "    "
   ]
  },
  {
   "cell_type": "code",
   "execution_count": 129,
   "id": "e413035f",
   "metadata": {},
   "outputs": [
    {
     "name": "stdout",
     "output_type": "stream",
     "text": [
      "['https://data.usajobs.gov/api/historicjoa?pagesize=1000&pagenumber=1401', 'https://data.usajobs.gov/api/historicjoa?pagesize=1000&pagenumber=1402', 'https://data.usajobs.gov/api/historicjoa?pagesize=1000&pagenumber=1403', 'https://data.usajobs.gov/api/historicjoa?pagesize=1000&pagenumber=1404', 'https://data.usajobs.gov/api/historicjoa?pagesize=1000&pagenumber=1405', 'https://data.usajobs.gov/api/historicjoa?pagesize=1000&pagenumber=1406', 'https://data.usajobs.gov/api/historicjoa?pagesize=1000&pagenumber=1407', 'https://data.usajobs.gov/api/historicjoa?pagesize=1000&pagenumber=1408', 'https://data.usajobs.gov/api/historicjoa?pagesize=1000&pagenumber=1409', 'https://data.usajobs.gov/api/historicjoa?pagesize=1000&pagenumber=1410', 'https://data.usajobs.gov/api/historicjoa?pagesize=1000&pagenumber=1411', 'https://data.usajobs.gov/api/historicjoa?pagesize=1000&pagenumber=1412', 'https://data.usajobs.gov/api/historicjoa?pagesize=1000&pagenumber=1413', 'https://data.usajobs.gov/api/historicjoa?pagesize=1000&pagenumber=1414', 'https://data.usajobs.gov/api/historicjoa?pagesize=1000&pagenumber=1415', 'https://data.usajobs.gov/api/historicjoa?pagesize=1000&pagenumber=1416', 'https://data.usajobs.gov/api/historicjoa?pagesize=1000&pagenumber=1417', 'https://data.usajobs.gov/api/historicjoa?pagesize=1000&pagenumber=1418', 'https://data.usajobs.gov/api/historicjoa?pagesize=1000&pagenumber=1419', 'https://data.usajobs.gov/api/historicjoa?pagesize=1000&pagenumber=1420', 'https://data.usajobs.gov/api/historicjoa?pagesize=1000&pagenumber=1421', 'https://data.usajobs.gov/api/historicjoa?pagesize=1000&pagenumber=1422', 'https://data.usajobs.gov/api/historicjoa?pagesize=1000&pagenumber=1423', 'https://data.usajobs.gov/api/historicjoa?pagesize=1000&pagenumber=1424', 'https://data.usajobs.gov/api/historicjoa?pagesize=1000&pagenumber=1425', 'https://data.usajobs.gov/api/historicjoa?pagesize=1000&pagenumber=1426', 'https://data.usajobs.gov/api/historicjoa?pagesize=1000&pagenumber=1427', 'https://data.usajobs.gov/api/historicjoa?pagesize=1000&pagenumber=1428', 'https://data.usajobs.gov/api/historicjoa?pagesize=1000&pagenumber=1429', 'https://data.usajobs.gov/api/historicjoa?pagesize=1000&pagenumber=1430', 'https://data.usajobs.gov/api/historicjoa?pagesize=1000&pagenumber=1431', 'https://data.usajobs.gov/api/historicjoa?pagesize=1000&pagenumber=1432', 'https://data.usajobs.gov/api/historicjoa?pagesize=1000&pagenumber=1433', 'https://data.usajobs.gov/api/historicjoa?pagesize=1000&pagenumber=1434', 'https://data.usajobs.gov/api/historicjoa?pagesize=1000&pagenumber=1435', 'https://data.usajobs.gov/api/historicjoa?pagesize=1000&pagenumber=1436', 'https://data.usajobs.gov/api/historicjoa?pagesize=1000&pagenumber=1437', 'https://data.usajobs.gov/api/historicjoa?pagesize=1000&pagenumber=1438', 'https://data.usajobs.gov/api/historicjoa?pagesize=1000&pagenumber=1439', 'https://data.usajobs.gov/api/historicjoa?pagesize=1000&pagenumber=1440', 'https://data.usajobs.gov/api/historicjoa?pagesize=1000&pagenumber=1441', 'https://data.usajobs.gov/api/historicjoa?pagesize=1000&pagenumber=1442', 'https://data.usajobs.gov/api/historicjoa?pagesize=1000&pagenumber=1443', 'https://data.usajobs.gov/api/historicjoa?pagesize=1000&pagenumber=1444', 'https://data.usajobs.gov/api/historicjoa?pagesize=1000&pagenumber=1445', 'https://data.usajobs.gov/api/historicjoa?pagesize=1000&pagenumber=1446', 'https://data.usajobs.gov/api/historicjoa?pagesize=1000&pagenumber=1447', 'https://data.usajobs.gov/api/historicjoa?pagesize=1000&pagenumber=1448', 'https://data.usajobs.gov/api/historicjoa?pagesize=1000&pagenumber=1449', 'https://data.usajobs.gov/api/historicjoa?pagesize=1000&pagenumber=1450', 'https://data.usajobs.gov/api/historicjoa?pagesize=1000&pagenumber=1451', 'https://data.usajobs.gov/api/historicjoa?pagesize=1000&pagenumber=1452', 'https://data.usajobs.gov/api/historicjoa?pagesize=1000&pagenumber=1453', 'https://data.usajobs.gov/api/historicjoa?pagesize=1000&pagenumber=1454', 'https://data.usajobs.gov/api/historicjoa?pagesize=1000&pagenumber=1455', 'https://data.usajobs.gov/api/historicjoa?pagesize=1000&pagenumber=1456', 'https://data.usajobs.gov/api/historicjoa?pagesize=1000&pagenumber=1457', 'https://data.usajobs.gov/api/historicjoa?pagesize=1000&pagenumber=1458', 'https://data.usajobs.gov/api/historicjoa?pagesize=1000&pagenumber=1459', 'https://data.usajobs.gov/api/historicjoa?pagesize=1000&pagenumber=1460', 'https://data.usajobs.gov/api/historicjoa?pagesize=1000&pagenumber=1461', 'https://data.usajobs.gov/api/historicjoa?pagesize=1000&pagenumber=1462', 'https://data.usajobs.gov/api/historicjoa?pagesize=1000&pagenumber=1463', 'https://data.usajobs.gov/api/historicjoa?pagesize=1000&pagenumber=1464', 'https://data.usajobs.gov/api/historicjoa?pagesize=1000&pagenumber=1465', 'https://data.usajobs.gov/api/historicjoa?pagesize=1000&pagenumber=1466', 'https://data.usajobs.gov/api/historicjoa?pagesize=1000&pagenumber=1467', 'https://data.usajobs.gov/api/historicjoa?pagesize=1000&pagenumber=1468', 'https://data.usajobs.gov/api/historicjoa?pagesize=1000&pagenumber=1469', 'https://data.usajobs.gov/api/historicjoa?pagesize=1000&pagenumber=1470', 'https://data.usajobs.gov/api/historicjoa?pagesize=1000&pagenumber=1471', 'https://data.usajobs.gov/api/historicjoa?pagesize=1000&pagenumber=1472', 'https://data.usajobs.gov/api/historicjoa?pagesize=1000&pagenumber=1473', 'https://data.usajobs.gov/api/historicjoa?pagesize=1000&pagenumber=1474', 'https://data.usajobs.gov/api/historicjoa?pagesize=1000&pagenumber=1475', 'https://data.usajobs.gov/api/historicjoa?pagesize=1000&pagenumber=1476', 'https://data.usajobs.gov/api/historicjoa?pagesize=1000&pagenumber=1477', 'https://data.usajobs.gov/api/historicjoa?pagesize=1000&pagenumber=1478', 'https://data.usajobs.gov/api/historicjoa?pagesize=1000&pagenumber=1479', 'https://data.usajobs.gov/api/historicjoa?pagesize=1000&pagenumber=1480', 'https://data.usajobs.gov/api/historicjoa?pagesize=1000&pagenumber=1481', 'https://data.usajobs.gov/api/historicjoa?pagesize=1000&pagenumber=1482', 'https://data.usajobs.gov/api/historicjoa?pagesize=1000&pagenumber=1483', 'https://data.usajobs.gov/api/historicjoa?pagesize=1000&pagenumber=1484', 'https://data.usajobs.gov/api/historicjoa?pagesize=1000&pagenumber=1485', 'https://data.usajobs.gov/api/historicjoa?pagesize=1000&pagenumber=1486', 'https://data.usajobs.gov/api/historicjoa?pagesize=1000&pagenumber=1487', 'https://data.usajobs.gov/api/historicjoa?pagesize=1000&pagenumber=1488', 'https://data.usajobs.gov/api/historicjoa?pagesize=1000&pagenumber=1489', 'https://data.usajobs.gov/api/historicjoa?pagesize=1000&pagenumber=1490', 'https://data.usajobs.gov/api/historicjoa?pagesize=1000&pagenumber=1491', 'https://data.usajobs.gov/api/historicjoa?pagesize=1000&pagenumber=1492', 'https://data.usajobs.gov/api/historicjoa?pagesize=1000&pagenumber=1493', 'https://data.usajobs.gov/api/historicjoa?pagesize=1000&pagenumber=1494', 'https://data.usajobs.gov/api/historicjoa?pagesize=1000&pagenumber=1495', 'https://data.usajobs.gov/api/historicjoa?pagesize=1000&pagenumber=1496', 'https://data.usajobs.gov/api/historicjoa?pagesize=1000&pagenumber=1497', 'https://data.usajobs.gov/api/historicjoa?pagesize=1000&pagenumber=1498', 'https://data.usajobs.gov/api/historicjoa?pagesize=1000&pagenumber=1499', 'https://data.usajobs.gov/api/historicjoa?pagesize=1000&pagenumber=1500', 'https://data.usajobs.gov/api/historicjoa?pagesize=1000&pagenumber=1501', 'https://data.usajobs.gov/api/historicjoa?pagesize=1000&pagenumber=1502', 'https://data.usajobs.gov/api/historicjoa?pagesize=1000&pagenumber=1503', 'https://data.usajobs.gov/api/historicjoa?pagesize=1000&pagenumber=1504', 'https://data.usajobs.gov/api/historicjoa?pagesize=1000&pagenumber=1505', 'https://data.usajobs.gov/api/historicjoa?pagesize=1000&pagenumber=1506', 'https://data.usajobs.gov/api/historicjoa?pagesize=1000&pagenumber=1507', 'https://data.usajobs.gov/api/historicjoa?pagesize=1000&pagenumber=1508', 'https://data.usajobs.gov/api/historicjoa?pagesize=1000&pagenumber=1509', 'https://data.usajobs.gov/api/historicjoa?pagesize=1000&pagenumber=1510', 'https://data.usajobs.gov/api/historicjoa?pagesize=1000&pagenumber=1511', 'https://data.usajobs.gov/api/historicjoa?pagesize=1000&pagenumber=1512', 'https://data.usajobs.gov/api/historicjoa?pagesize=1000&pagenumber=1513', 'https://data.usajobs.gov/api/historicjoa?pagesize=1000&pagenumber=1514', 'https://data.usajobs.gov/api/historicjoa?pagesize=1000&pagenumber=1515', 'https://data.usajobs.gov/api/historicjoa?pagesize=1000&pagenumber=1516', 'https://data.usajobs.gov/api/historicjoa?pagesize=1000&pagenumber=1517', 'https://data.usajobs.gov/api/historicjoa?pagesize=1000&pagenumber=1518', 'https://data.usajobs.gov/api/historicjoa?pagesize=1000&pagenumber=1519', 'https://data.usajobs.gov/api/historicjoa?pagesize=1000&pagenumber=1520', 'https://data.usajobs.gov/api/historicjoa?pagesize=1000&pagenumber=1521', 'https://data.usajobs.gov/api/historicjoa?pagesize=1000&pagenumber=1522', 'https://data.usajobs.gov/api/historicjoa?pagesize=1000&pagenumber=1523', 'https://data.usajobs.gov/api/historicjoa?pagesize=1000&pagenumber=1524', 'https://data.usajobs.gov/api/historicjoa?pagesize=1000&pagenumber=1525', 'https://data.usajobs.gov/api/historicjoa?pagesize=1000&pagenumber=1526', 'https://data.usajobs.gov/api/historicjoa?pagesize=1000&pagenumber=1527', 'https://data.usajobs.gov/api/historicjoa?pagesize=1000&pagenumber=1528', 'https://data.usajobs.gov/api/historicjoa?pagesize=1000&pagenumber=1529', 'https://data.usajobs.gov/api/historicjoa?pagesize=1000&pagenumber=1530', 'https://data.usajobs.gov/api/historicjoa?pagesize=1000&pagenumber=1531', 'https://data.usajobs.gov/api/historicjoa?pagesize=1000&pagenumber=1532', 'https://data.usajobs.gov/api/historicjoa?pagesize=1000&pagenumber=1533', 'https://data.usajobs.gov/api/historicjoa?pagesize=1000&pagenumber=1534', 'https://data.usajobs.gov/api/historicjoa?pagesize=1000&pagenumber=1535', 'https://data.usajobs.gov/api/historicjoa?pagesize=1000&pagenumber=1536', 'https://data.usajobs.gov/api/historicjoa?pagesize=1000&pagenumber=1537', 'https://data.usajobs.gov/api/historicjoa?pagesize=1000&pagenumber=1538', 'https://data.usajobs.gov/api/historicjoa?pagesize=1000&pagenumber=1539', 'https://data.usajobs.gov/api/historicjoa?pagesize=1000&pagenumber=1540', 'https://data.usajobs.gov/api/historicjoa?pagesize=1000&pagenumber=1541', 'https://data.usajobs.gov/api/historicjoa?pagesize=1000&pagenumber=1542', 'https://data.usajobs.gov/api/historicjoa?pagesize=1000&pagenumber=1543', 'https://data.usajobs.gov/api/historicjoa?pagesize=1000&pagenumber=1544', 'https://data.usajobs.gov/api/historicjoa?pagesize=1000&pagenumber=1545', 'https://data.usajobs.gov/api/historicjoa?pagesize=1000&pagenumber=1546', 'https://data.usajobs.gov/api/historicjoa?pagesize=1000&pagenumber=1547', 'https://data.usajobs.gov/api/historicjoa?pagesize=1000&pagenumber=1548', 'https://data.usajobs.gov/api/historicjoa?pagesize=1000&pagenumber=1549', 'https://data.usajobs.gov/api/historicjoa?pagesize=1000&pagenumber=1550', 'https://data.usajobs.gov/api/historicjoa?pagesize=1000&pagenumber=1551', 'https://data.usajobs.gov/api/historicjoa?pagesize=1000&pagenumber=1552', 'https://data.usajobs.gov/api/historicjoa?pagesize=1000&pagenumber=1553', 'https://data.usajobs.gov/api/historicjoa?pagesize=1000&pagenumber=1554', 'https://data.usajobs.gov/api/historicjoa?pagesize=1000&pagenumber=1555', 'https://data.usajobs.gov/api/historicjoa?pagesize=1000&pagenumber=1556', 'https://data.usajobs.gov/api/historicjoa?pagesize=1000&pagenumber=1557', 'https://data.usajobs.gov/api/historicjoa?pagesize=1000&pagenumber=1558', 'https://data.usajobs.gov/api/historicjoa?pagesize=1000&pagenumber=1559', 'https://data.usajobs.gov/api/historicjoa?pagesize=1000&pagenumber=1560', 'https://data.usajobs.gov/api/historicjoa?pagesize=1000&pagenumber=1561', 'https://data.usajobs.gov/api/historicjoa?pagesize=1000&pagenumber=1562', 'https://data.usajobs.gov/api/historicjoa?pagesize=1000&pagenumber=1563', 'https://data.usajobs.gov/api/historicjoa?pagesize=1000&pagenumber=1564', 'https://data.usajobs.gov/api/historicjoa?pagesize=1000&pagenumber=1565', 'https://data.usajobs.gov/api/historicjoa?pagesize=1000&pagenumber=1566', 'https://data.usajobs.gov/api/historicjoa?pagesize=1000&pagenumber=1567', 'https://data.usajobs.gov/api/historicjoa?pagesize=1000&pagenumber=1568', 'https://data.usajobs.gov/api/historicjoa?pagesize=1000&pagenumber=1569', 'https://data.usajobs.gov/api/historicjoa?pagesize=1000&pagenumber=1570', 'https://data.usajobs.gov/api/historicjoa?pagesize=1000&pagenumber=1571', 'https://data.usajobs.gov/api/historicjoa?pagesize=1000&pagenumber=1572', 'https://data.usajobs.gov/api/historicjoa?pagesize=1000&pagenumber=1573', 'https://data.usajobs.gov/api/historicjoa?pagesize=1000&pagenumber=1574', 'https://data.usajobs.gov/api/historicjoa?pagesize=1000&pagenumber=1575', 'https://data.usajobs.gov/api/historicjoa?pagesize=1000&pagenumber=1576', 'https://data.usajobs.gov/api/historicjoa?pagesize=1000&pagenumber=1577', 'https://data.usajobs.gov/api/historicjoa?pagesize=1000&pagenumber=1578', 'https://data.usajobs.gov/api/historicjoa?pagesize=1000&pagenumber=1579', 'https://data.usajobs.gov/api/historicjoa?pagesize=1000&pagenumber=1580', 'https://data.usajobs.gov/api/historicjoa?pagesize=1000&pagenumber=1581', 'https://data.usajobs.gov/api/historicjoa?pagesize=1000&pagenumber=1582', 'https://data.usajobs.gov/api/historicjoa?pagesize=1000&pagenumber=1583', 'https://data.usajobs.gov/api/historicjoa?pagesize=1000&pagenumber=1584', 'https://data.usajobs.gov/api/historicjoa?pagesize=1000&pagenumber=1585', 'https://data.usajobs.gov/api/historicjoa?pagesize=1000&pagenumber=1586', 'https://data.usajobs.gov/api/historicjoa?pagesize=1000&pagenumber=1587', 'https://data.usajobs.gov/api/historicjoa?pagesize=1000&pagenumber=1588', 'https://data.usajobs.gov/api/historicjoa?pagesize=1000&pagenumber=1589', 'https://data.usajobs.gov/api/historicjoa?pagesize=1000&pagenumber=1590', 'https://data.usajobs.gov/api/historicjoa?pagesize=1000&pagenumber=1591', 'https://data.usajobs.gov/api/historicjoa?pagesize=1000&pagenumber=1592', 'https://data.usajobs.gov/api/historicjoa?pagesize=1000&pagenumber=1593', 'https://data.usajobs.gov/api/historicjoa?pagesize=1000&pagenumber=1594', 'https://data.usajobs.gov/api/historicjoa?pagesize=1000&pagenumber=1595', 'https://data.usajobs.gov/api/historicjoa?pagesize=1000&pagenumber=1596', 'https://data.usajobs.gov/api/historicjoa?pagesize=1000&pagenumber=1597', 'https://data.usajobs.gov/api/historicjoa?pagesize=1000&pagenumber=1598', 'https://data.usajobs.gov/api/historicjoa?pagesize=1000&pagenumber=1599', 'https://data.usajobs.gov/api/historicjoa?pagesize=1000&pagenumber=1600', 'https://data.usajobs.gov/api/historicjoa?pagesize=1000&pagenumber=1601']\n"
     ]
    },
    {
     "data": {
      "text/plain": [
       "201"
      ]
     },
     "execution_count": 129,
     "metadata": {},
     "output_type": "execute_result"
    }
   ],
   "source": [
    "print(usa_jobs_URLs)\n",
    "len(usa_jobs_URLs)"
   ]
  },
  {
   "cell_type": "code",
   "execution_count": 130,
   "id": "a9b4520a",
   "metadata": {},
   "outputs": [
    {
     "data": {
      "text/plain": [
       "100"
      ]
     },
     "execution_count": 130,
     "metadata": {},
     "output_type": "execute_result"
    }
   ],
   "source": [
    "len(usa_jobs_data)"
   ]
  },
  {
   "cell_type": "code",
   "execution_count": 131,
   "id": "f95f567d",
   "metadata": {},
   "outputs": [
    {
     "data": {
      "text/plain": [
       "1000"
      ]
     },
     "execution_count": 131,
     "metadata": {},
     "output_type": "execute_result"
    }
   ],
   "source": [
    "len(usa_jobs_data[0])"
   ]
  },
  {
   "cell_type": "code",
   "execution_count": 132,
   "id": "1939a160",
   "metadata": {},
   "outputs": [
    {
     "name": "stdout",
     "output_type": "stream",
     "text": [
      "(100000, 44)\n"
     ]
    },
    {
     "data": {
      "text/html": [
       "<div>\n",
       "<style scoped>\n",
       "    .dataframe tbody tr th:only-of-type {\n",
       "        vertical-align: middle;\n",
       "    }\n",
       "\n",
       "    .dataframe tbody tr th {\n",
       "        vertical-align: top;\n",
       "    }\n",
       "\n",
       "    .dataframe thead th {\n",
       "        text-align: right;\n",
       "    }\n",
       "</style>\n",
       "<table border=\"1\" class=\"dataframe\">\n",
       "  <thead>\n",
       "    <tr style=\"text-align: right;\">\n",
       "      <th></th>\n",
       "      <th>usajobsControlNumber</th>\n",
       "      <th>hiringAgencyCode</th>\n",
       "      <th>hiringAgencyName</th>\n",
       "      <th>hiringDepartmentCode</th>\n",
       "      <th>hiringDepartmentName</th>\n",
       "      <th>agencyLevel</th>\n",
       "      <th>agencyLevelSort</th>\n",
       "      <th>appointmentType</th>\n",
       "      <th>workSchedule</th>\n",
       "      <th>payScale</th>\n",
       "      <th>salaryType</th>\n",
       "      <th>vendor</th>\n",
       "      <th>travelRequirement</th>\n",
       "      <th>teleworkEligible</th>\n",
       "      <th>serviceType</th>\n",
       "      <th>securityClearanceRequired</th>\n",
       "      <th>securityClearance</th>\n",
       "      <th>whoMayApply</th>\n",
       "      <th>announcementClosingTypeCode</th>\n",
       "      <th>announcementClosingTypeDescription</th>\n",
       "      <th>positionOpenDate</th>\n",
       "      <th>positionCloseDate</th>\n",
       "      <th>positionExpireDate</th>\n",
       "      <th>announcementNumber</th>\n",
       "      <th>hiringSubelementName</th>\n",
       "      <th>positionTitle</th>\n",
       "      <th>minimumGrade</th>\n",
       "      <th>maximumGrade</th>\n",
       "      <th>promotionPotential</th>\n",
       "      <th>minimumSalary</th>\n",
       "      <th>maximumSalary</th>\n",
       "      <th>supervisoryStatus</th>\n",
       "      <th>drugTestRequired</th>\n",
       "      <th>relocationExpensesReimbursed</th>\n",
       "      <th>totalOpenings</th>\n",
       "      <th>disableAppyOnline</th>\n",
       "      <th>positionOpeningStatus</th>\n",
       "      <th>applicationsStarted</th>\n",
       "      <th>hiringPaths</th>\n",
       "      <th>jobCategories</th>\n",
       "      <th>positionLocations</th>\n",
       "      <th>missionCriticalOccupations</th>\n",
       "      <th>keyStandardRequirements</th>\n",
       "      <th>_links</th>\n",
       "    </tr>\n",
       "  </thead>\n",
       "  <tbody>\n",
       "    <tr>\n",
       "      <th>0</th>\n",
       "      <td>455350500</td>\n",
       "      <td>None</td>\n",
       "      <td>None</td>\n",
       "      <td>None</td>\n",
       "      <td>General Services Administration</td>\n",
       "      <td>1</td>\n",
       "      <td>General Services Administration</td>\n",
       "      <td>Multiple Appointment Types</td>\n",
       "      <td>Full-time</td>\n",
       "      <td>GS</td>\n",
       "      <td>Per Year</td>\n",
       "      <td>USASTAFFING</td>\n",
       "      <td>Occasional travel</td>\n",
       "      <td>N</td>\n",
       "      <td>None</td>\n",
       "      <td>Y</td>\n",
       "      <td>Public Trust - Background Investigation</td>\n",
       "      <td>United States Citizens</td>\n",
       "      <td>None</td>\n",
       "      <td>None</td>\n",
       "      <td>2016-11-03T00:00:00</td>\n",
       "      <td>2017-09-30T00:00:00</td>\n",
       "      <td>None</td>\n",
       "      <td>1712025CLOTR</td>\n",
       "      <td>None</td>\n",
       "      <td>Environmental Protection Specialist</td>\n",
       "      <td>07</td>\n",
       "      <td>07</td>\n",
       "      <td>12</td>\n",
       "      <td>40033.00</td>\n",
       "      <td>61783.0</td>\n",
       "      <td>N</td>\n",
       "      <td>N</td>\n",
       "      <td>N</td>\n",
       "      <td>Many</td>\n",
       "      <td>N</td>\n",
       "      <td>Applications under review</td>\n",
       "      <td>4</td>\n",
       "      <td>[{'hiringPath': 'U.S. Citizens, Nationals or t...</td>\n",
       "      <td>[{'series': '0028'}]</td>\n",
       "      <td>[{'positionLocationId': 11296876, 'positionLoc...</td>\n",
       "      <td>[]</td>\n",
       "      <td>[{'keyStandardRequirement': None, 'keyStandard...</td>\n",
       "      <td>[{'rel': 'AnnouncementText', 'href': '/api/his...</td>\n",
       "    </tr>\n",
       "    <tr>\n",
       "      <th>1</th>\n",
       "      <td>464062000</td>\n",
       "      <td>VATA</td>\n",
       "      <td>Veterans Health Administration</td>\n",
       "      <td>21</td>\n",
       "      <td>Department of Veterans Affairs</td>\n",
       "      <td>2</td>\n",
       "      <td>Department of Veterans Affairs\\Veterans Health...</td>\n",
       "      <td>Permanent</td>\n",
       "      <td>Full-time</td>\n",
       "      <td>GS</td>\n",
       "      <td>Per Year</td>\n",
       "      <td>USASTAFFING</td>\n",
       "      <td>Not required</td>\n",
       "      <td>N</td>\n",
       "      <td>None</td>\n",
       "      <td>Y</td>\n",
       "      <td>Public Trust - Background Investigation</td>\n",
       "      <td>United States Citizens</td>\n",
       "      <td>None</td>\n",
       "      <td>None</td>\n",
       "      <td>2017-02-13T00:00:00</td>\n",
       "      <td>2017-03-15T00:00:00</td>\n",
       "      <td>None</td>\n",
       "      <td>NV-17-LDE-1912142</td>\n",
       "      <td>None</td>\n",
       "      <td>Physician (Chief Hospitalist)</td>\n",
       "      <td>00</td>\n",
       "      <td>00</td>\n",
       "      <td>00</td>\n",
       "      <td>115000.00</td>\n",
       "      <td>292000.0</td>\n",
       "      <td>Y</td>\n",
       "      <td>N</td>\n",
       "      <td>N</td>\n",
       "      <td>1</td>\n",
       "      <td>N</td>\n",
       "      <td>Applications under review</td>\n",
       "      <td>1</td>\n",
       "      <td>[{'hiringPath': 'U.S. Citizens, Nationals or t...</td>\n",
       "      <td>[{'series': '0602'}]</td>\n",
       "      <td>[{'positionLocationId': 11674617, 'positionLoc...</td>\n",
       "      <td>[]</td>\n",
       "      <td>[{'keyStandardRequirement': None, 'keyStandard...</td>\n",
       "      <td>[{'rel': 'AnnouncementText', 'href': '/api/his...</td>\n",
       "    </tr>\n",
       "    <tr>\n",
       "      <th>2</th>\n",
       "      <td>464413100</td>\n",
       "      <td>ARNG</td>\n",
       "      <td>Army National Guard Units</td>\n",
       "      <td>3</td>\n",
       "      <td>Department of the Army</td>\n",
       "      <td>2</td>\n",
       "      <td>Department of the Army\\Army National Guard Units</td>\n",
       "      <td>Agency Employees Only</td>\n",
       "      <td>Full-time</td>\n",
       "      <td>WS</td>\n",
       "      <td>Per Hour</td>\n",
       "      <td>USASTAFFING</td>\n",
       "      <td>Occasional travel</td>\n",
       "      <td>N</td>\n",
       "      <td>None</td>\n",
       "      <td>N</td>\n",
       "      <td>Not Required</td>\n",
       "      <td>Agency Employees Only</td>\n",
       "      <td>None</td>\n",
       "      <td>None</td>\n",
       "      <td>2017-02-16T00:00:00</td>\n",
       "      <td>2017-03-02T00:00:00</td>\n",
       "      <td>None</td>\n",
       "      <td>17-T-ARMY-088</td>\n",
       "      <td>None</td>\n",
       "      <td>Materials Handler Supervisor (OBO)</td>\n",
       "      <td>05</td>\n",
       "      <td>05</td>\n",
       "      <td>05</td>\n",
       "      <td>28.58</td>\n",
       "      <td>33.4</td>\n",
       "      <td>Y</td>\n",
       "      <td>N</td>\n",
       "      <td>N</td>\n",
       "      <td>1</td>\n",
       "      <td>N</td>\n",
       "      <td>Job closed</td>\n",
       "      <td>1</td>\n",
       "      <td>[{'hiringPath': 'Current members, those who wa...</td>\n",
       "      <td>[{'series': '6907'}]</td>\n",
       "      <td>[{'positionLocationId': 11699335, 'positionLoc...</td>\n",
       "      <td>[]</td>\n",
       "      <td>[{'keyStandardRequirement': None, 'keyStandard...</td>\n",
       "      <td>[{'rel': 'AnnouncementText', 'href': '/api/his...</td>\n",
       "    </tr>\n",
       "    <tr>\n",
       "      <th>3</th>\n",
       "      <td>464534800</td>\n",
       "      <td>VATA</td>\n",
       "      <td>Veterans Health Administration</td>\n",
       "      <td>21</td>\n",
       "      <td>Department of Veterans Affairs</td>\n",
       "      <td>2</td>\n",
       "      <td>Department of Veterans Affairs\\Veterans Health...</td>\n",
       "      <td>Agency Employees Only</td>\n",
       "      <td>Full-time</td>\n",
       "      <td>GS</td>\n",
       "      <td>Per Year</td>\n",
       "      <td>USASTAFFING</td>\n",
       "      <td>Not required</td>\n",
       "      <td>N</td>\n",
       "      <td>None</td>\n",
       "      <td>Y</td>\n",
       "      <td>Public Trust - Background Investigation</td>\n",
       "      <td>Agency Employees Only</td>\n",
       "      <td>None</td>\n",
       "      <td>None</td>\n",
       "      <td>2017-03-10T00:00:00</td>\n",
       "      <td>2017-03-29T00:00:00</td>\n",
       "      <td>None</td>\n",
       "      <td>VHA-590-17-MAH-1916882-BU</td>\n",
       "      <td>None</td>\n",
       "      <td>MEDICAL SUPPORT ASSISTANT</td>\n",
       "      <td>05</td>\n",
       "      <td>05</td>\n",
       "      <td>05</td>\n",
       "      <td>32844.00</td>\n",
       "      <td>42702.0</td>\n",
       "      <td>N</td>\n",
       "      <td>N</td>\n",
       "      <td>N</td>\n",
       "      <td>2</td>\n",
       "      <td>N</td>\n",
       "      <td>Applications under review</td>\n",
       "      <td>52</td>\n",
       "      <td>[{'hiringPath': ''}]</td>\n",
       "      <td>[{'series': '0679'}]</td>\n",
       "      <td>[{'positionLocationId': 11728015, 'positionLoc...</td>\n",
       "      <td>[]</td>\n",
       "      <td>[{'keyStandardRequirement': None, 'keyStandard...</td>\n",
       "      <td>[{'rel': 'AnnouncementText', 'href': '/api/his...</td>\n",
       "    </tr>\n",
       "    <tr>\n",
       "      <th>4</th>\n",
       "      <td>465121000</td>\n",
       "      <td>NV27</td>\n",
       "      <td>U.S. Marine Corps</td>\n",
       "      <td>16</td>\n",
       "      <td>Department of the Navy</td>\n",
       "      <td>2</td>\n",
       "      <td>Department of the Navy\\U.S. Marine Corps</td>\n",
       "      <td>Permanent</td>\n",
       "      <td>Shift work</td>\n",
       "      <td>NF</td>\n",
       "      <td>Per Hour</td>\n",
       "      <td>HQMC MCCS (PeopleSoft)</td>\n",
       "      <td>None</td>\n",
       "      <td>N</td>\n",
       "      <td>None</td>\n",
       "      <td>N</td>\n",
       "      <td>Not Required</td>\n",
       "      <td>All groups of qualified individuals</td>\n",
       "      <td>None</td>\n",
       "      <td>None</td>\n",
       "      <td>2017-03-02T00:00:00</td>\n",
       "      <td>2017-03-12T00:00:00</td>\n",
       "      <td>None</td>\n",
       "      <td>24367</td>\n",
       "      <td>SOUTH CAROLINA MCCS</td>\n",
       "      <td>SEASONAL- LIFEGUARD NF-2</td>\n",
       "      <td>01</td>\n",
       "      <td>01</td>\n",
       "      <td>NA</td>\n",
       "      <td>11.50</td>\n",
       "      <td>11.5</td>\n",
       "      <td>N</td>\n",
       "      <td>N</td>\n",
       "      <td>N</td>\n",
       "      <td>6</td>\n",
       "      <td>Y</td>\n",
       "      <td>Job closed</td>\n",
       "      <td>0</td>\n",
       "      <td>[{'hiringPath': 'U.S. Citizens, Nationals or t...</td>\n",
       "      <td>[{'series': '0189'}]</td>\n",
       "      <td>[{'positionLocationId': 11714192, 'positionLoc...</td>\n",
       "      <td>[]</td>\n",
       "      <td>[{'keyStandardRequirement': None, 'keyStandard...</td>\n",
       "      <td>[{'rel': 'AnnouncementText', 'href': '/api/his...</td>\n",
       "    </tr>\n",
       "  </tbody>\n",
       "</table>\n",
       "</div>"
      ],
      "text/plain": [
       "   usajobsControlNumber hiringAgencyCode                hiringAgencyName  \\\n",
       "0             455350500             None                            None   \n",
       "1             464062000         VATA      Veterans Health Administration   \n",
       "2             464413100         ARNG           Army National Guard Units   \n",
       "3             464534800         VATA      Veterans Health Administration   \n",
       "4             465121000         NV27                   U.S. Marine Corps   \n",
       "\n",
       "  hiringDepartmentCode             hiringDepartmentName  agencyLevel  \\\n",
       "0                 None  General Services Administration            1   \n",
       "1                   21   Department of Veterans Affairs            2   \n",
       "2                    3           Department of the Army            2   \n",
       "3                   21   Department of Veterans Affairs            2   \n",
       "4                   16           Department of the Navy            2   \n",
       "\n",
       "                                     agencyLevelSort  \\\n",
       "0                    General Services Administration   \n",
       "1  Department of Veterans Affairs\\Veterans Health...   \n",
       "2   Department of the Army\\Army National Guard Units   \n",
       "3  Department of Veterans Affairs\\Veterans Health...   \n",
       "4           Department of the Navy\\U.S. Marine Corps   \n",
       "\n",
       "              appointmentType workSchedule payScale salaryType  \\\n",
       "0  Multiple Appointment Types    Full-time       GS   Per Year   \n",
       "1                   Permanent    Full-time       GS   Per Year   \n",
       "2       Agency Employees Only    Full-time       WS   Per Hour   \n",
       "3       Agency Employees Only    Full-time       GS   Per Year   \n",
       "4                   Permanent   Shift work       NF   Per Hour   \n",
       "\n",
       "                   vendor  travelRequirement teleworkEligible serviceType  \\\n",
       "0             USASTAFFING  Occasional travel                N        None   \n",
       "1             USASTAFFING       Not required                N        None   \n",
       "2             USASTAFFING  Occasional travel                N        None   \n",
       "3             USASTAFFING       Not required                N        None   \n",
       "4  HQMC MCCS (PeopleSoft)               None                N        None   \n",
       "\n",
       "  securityClearanceRequired                        securityClearance  \\\n",
       "0                         Y  Public Trust - Background Investigation   \n",
       "1                         Y  Public Trust - Background Investigation   \n",
       "2                         N                             Not Required   \n",
       "3                         Y  Public Trust - Background Investigation   \n",
       "4                         N                             Not Required   \n",
       "\n",
       "                            whoMayApply announcementClosingTypeCode  \\\n",
       "0               United States Citizens                         None   \n",
       "1               United States Citizens                         None   \n",
       "2                 Agency Employees Only                        None   \n",
       "3                 Agency Employees Only                        None   \n",
       "4  All groups of qualified individuals                         None   \n",
       "\n",
       "  announcementClosingTypeDescription     positionOpenDate  \\\n",
       "0                               None  2016-11-03T00:00:00   \n",
       "1                               None  2017-02-13T00:00:00   \n",
       "2                               None  2017-02-16T00:00:00   \n",
       "3                               None  2017-03-10T00:00:00   \n",
       "4                               None  2017-03-02T00:00:00   \n",
       "\n",
       "     positionCloseDate positionExpireDate         announcementNumber  \\\n",
       "0  2017-09-30T00:00:00               None               1712025CLOTR   \n",
       "1  2017-03-15T00:00:00               None          NV-17-LDE-1912142   \n",
       "2  2017-03-02T00:00:00               None              17-T-ARMY-088   \n",
       "3  2017-03-29T00:00:00               None  VHA-590-17-MAH-1916882-BU   \n",
       "4  2017-03-12T00:00:00               None                      24367   \n",
       "\n",
       "  hiringSubelementName                        positionTitle minimumGrade  \\\n",
       "0                 None  Environmental Protection Specialist           07   \n",
       "1                 None        Physician (Chief Hospitalist)           00   \n",
       "2                 None   Materials Handler Supervisor (OBO)           05   \n",
       "3                 None            MEDICAL SUPPORT ASSISTANT           05   \n",
       "4  SOUTH CAROLINA MCCS             SEASONAL- LIFEGUARD NF-2           01   \n",
       "\n",
       "  maximumGrade promotionPotential  minimumSalary  maximumSalary  \\\n",
       "0           07                 12       40033.00        61783.0   \n",
       "1           00                 00      115000.00       292000.0   \n",
       "2           05                 05          28.58           33.4   \n",
       "3           05                 05       32844.00        42702.0   \n",
       "4           01                 NA          11.50           11.5   \n",
       "\n",
       "  supervisoryStatus drugTestRequired relocationExpensesReimbursed  \\\n",
       "0                 N                N                            N   \n",
       "1                 Y                N                            N   \n",
       "2                 Y                N                            N   \n",
       "3                 N                N                            N   \n",
       "4                 N                N                            N   \n",
       "\n",
       "  totalOpenings disableAppyOnline      positionOpeningStatus  \\\n",
       "0         Many                  N  Applications under review   \n",
       "1         1                     N  Applications under review   \n",
       "2         1                     N                 Job closed   \n",
       "3         2                     N  Applications under review   \n",
       "4         6                     Y                 Job closed   \n",
       "\n",
       "   applicationsStarted                                        hiringPaths  \\\n",
       "0                    4  [{'hiringPath': 'U.S. Citizens, Nationals or t...   \n",
       "1                    1  [{'hiringPath': 'U.S. Citizens, Nationals or t...   \n",
       "2                    1  [{'hiringPath': 'Current members, those who wa...   \n",
       "3                   52                               [{'hiringPath': ''}]   \n",
       "4                    0  [{'hiringPath': 'U.S. Citizens, Nationals or t...   \n",
       "\n",
       "          jobCategories                                  positionLocations  \\\n",
       "0  [{'series': '0028'}]  [{'positionLocationId': 11296876, 'positionLoc...   \n",
       "1  [{'series': '0602'}]  [{'positionLocationId': 11674617, 'positionLoc...   \n",
       "2  [{'series': '6907'}]  [{'positionLocationId': 11699335, 'positionLoc...   \n",
       "3  [{'series': '0679'}]  [{'positionLocationId': 11728015, 'positionLoc...   \n",
       "4  [{'series': '0189'}]  [{'positionLocationId': 11714192, 'positionLoc...   \n",
       "\n",
       "  missionCriticalOccupations  \\\n",
       "0                         []   \n",
       "1                         []   \n",
       "2                         []   \n",
       "3                         []   \n",
       "4                         []   \n",
       "\n",
       "                             keyStandardRequirements  \\\n",
       "0  [{'keyStandardRequirement': None, 'keyStandard...   \n",
       "1  [{'keyStandardRequirement': None, 'keyStandard...   \n",
       "2  [{'keyStandardRequirement': None, 'keyStandard...   \n",
       "3  [{'keyStandardRequirement': None, 'keyStandard...   \n",
       "4  [{'keyStandardRequirement': None, 'keyStandard...   \n",
       "\n",
       "                                              _links  \n",
       "0  [{'rel': 'AnnouncementText', 'href': '/api/his...  \n",
       "1  [{'rel': 'AnnouncementText', 'href': '/api/his...  \n",
       "2  [{'rel': 'AnnouncementText', 'href': '/api/his...  \n",
       "3  [{'rel': 'AnnouncementText', 'href': '/api/his...  \n",
       "4  [{'rel': 'AnnouncementText', 'href': '/api/his...  "
      ]
     },
     "execution_count": 132,
     "metadata": {},
     "output_type": "execute_result"
    }
   ],
   "source": [
    "# dataframe 16\n",
    "\n",
    "usa_jobs = pd.DataFrame()\n",
    "\n",
    "for data in usa_jobs_data:\n",
    "    \n",
    "    usa_jobs_x = pd.DataFrame(data)\n",
    "    usa_jobs = pd.concat([usa_jobs,usa_jobs_x], axis = 0)\n",
    "\n",
    "print(usa_jobs.shape)\n",
    "usa_jobs.head()"
   ]
  },
  {
   "cell_type": "code",
   "execution_count": 133,
   "id": "0fa32f5c",
   "metadata": {},
   "outputs": [],
   "source": [
    "# save as .csv\n",
    "\n",
    "usa_jobs.to_csv('usa_jobs_1600.csv', index=False)"
   ]
  },
  {
   "cell_type": "code",
   "execution_count": 134,
   "id": "9bfc13a9",
   "metadata": {},
   "outputs": [
    {
     "data": {
      "text/plain": [
       "100"
      ]
     },
     "execution_count": 134,
     "metadata": {},
     "output_type": "execute_result"
    }
   ],
   "source": [
    "page_1601 = list(range(1601,1601+100))\n",
    "len(page_1601)"
   ]
  },
  {
   "cell_type": "code",
   "execution_count": 135,
   "id": "af0343bd",
   "metadata": {},
   "outputs": [],
   "source": [
    "usa_jobs_data = []"
   ]
  },
  {
   "cell_type": "code",
   "execution_count": 136,
   "id": "e92b6d1f",
   "metadata": {},
   "outputs": [],
   "source": [
    "\n",
    "for x in page_1601:\n",
    "\n",
    "    link = usa_jobs_URLs[-1]\n",
    "    \n",
    "    # connection\n",
    "    usa_jobs = requests.get(link)\n",
    "    usa_jobs_results = usa_jobs.json()\n",
    "\n",
    "    # links\n",
    "    link_suffix = usa_jobs_results[list(usa_jobs_results)[0]]['next']\n",
    "    link = link_base + link_suffix\n",
    "    usa_jobs_URLs.append(link)\n",
    "\n",
    "    # data\n",
    "    usa_jobs_data.append(usa_jobs_results[list(usa_jobs_results)[1]])\n",
    "    "
   ]
  },
  {
   "cell_type": "code",
   "execution_count": 137,
   "id": "81d5d8e6",
   "metadata": {},
   "outputs": [
    {
     "name": "stdout",
     "output_type": "stream",
     "text": [
      "['https://data.usajobs.gov/api/historicjoa?pagesize=1000&pagenumber=1401', 'https://data.usajobs.gov/api/historicjoa?pagesize=1000&pagenumber=1402', 'https://data.usajobs.gov/api/historicjoa?pagesize=1000&pagenumber=1403', 'https://data.usajobs.gov/api/historicjoa?pagesize=1000&pagenumber=1404', 'https://data.usajobs.gov/api/historicjoa?pagesize=1000&pagenumber=1405', 'https://data.usajobs.gov/api/historicjoa?pagesize=1000&pagenumber=1406', 'https://data.usajobs.gov/api/historicjoa?pagesize=1000&pagenumber=1407', 'https://data.usajobs.gov/api/historicjoa?pagesize=1000&pagenumber=1408', 'https://data.usajobs.gov/api/historicjoa?pagesize=1000&pagenumber=1409', 'https://data.usajobs.gov/api/historicjoa?pagesize=1000&pagenumber=1410', 'https://data.usajobs.gov/api/historicjoa?pagesize=1000&pagenumber=1411', 'https://data.usajobs.gov/api/historicjoa?pagesize=1000&pagenumber=1412', 'https://data.usajobs.gov/api/historicjoa?pagesize=1000&pagenumber=1413', 'https://data.usajobs.gov/api/historicjoa?pagesize=1000&pagenumber=1414', 'https://data.usajobs.gov/api/historicjoa?pagesize=1000&pagenumber=1415', 'https://data.usajobs.gov/api/historicjoa?pagesize=1000&pagenumber=1416', 'https://data.usajobs.gov/api/historicjoa?pagesize=1000&pagenumber=1417', 'https://data.usajobs.gov/api/historicjoa?pagesize=1000&pagenumber=1418', 'https://data.usajobs.gov/api/historicjoa?pagesize=1000&pagenumber=1419', 'https://data.usajobs.gov/api/historicjoa?pagesize=1000&pagenumber=1420', 'https://data.usajobs.gov/api/historicjoa?pagesize=1000&pagenumber=1421', 'https://data.usajobs.gov/api/historicjoa?pagesize=1000&pagenumber=1422', 'https://data.usajobs.gov/api/historicjoa?pagesize=1000&pagenumber=1423', 'https://data.usajobs.gov/api/historicjoa?pagesize=1000&pagenumber=1424', 'https://data.usajobs.gov/api/historicjoa?pagesize=1000&pagenumber=1425', 'https://data.usajobs.gov/api/historicjoa?pagesize=1000&pagenumber=1426', 'https://data.usajobs.gov/api/historicjoa?pagesize=1000&pagenumber=1427', 'https://data.usajobs.gov/api/historicjoa?pagesize=1000&pagenumber=1428', 'https://data.usajobs.gov/api/historicjoa?pagesize=1000&pagenumber=1429', 'https://data.usajobs.gov/api/historicjoa?pagesize=1000&pagenumber=1430', 'https://data.usajobs.gov/api/historicjoa?pagesize=1000&pagenumber=1431', 'https://data.usajobs.gov/api/historicjoa?pagesize=1000&pagenumber=1432', 'https://data.usajobs.gov/api/historicjoa?pagesize=1000&pagenumber=1433', 'https://data.usajobs.gov/api/historicjoa?pagesize=1000&pagenumber=1434', 'https://data.usajobs.gov/api/historicjoa?pagesize=1000&pagenumber=1435', 'https://data.usajobs.gov/api/historicjoa?pagesize=1000&pagenumber=1436', 'https://data.usajobs.gov/api/historicjoa?pagesize=1000&pagenumber=1437', 'https://data.usajobs.gov/api/historicjoa?pagesize=1000&pagenumber=1438', 'https://data.usajobs.gov/api/historicjoa?pagesize=1000&pagenumber=1439', 'https://data.usajobs.gov/api/historicjoa?pagesize=1000&pagenumber=1440', 'https://data.usajobs.gov/api/historicjoa?pagesize=1000&pagenumber=1441', 'https://data.usajobs.gov/api/historicjoa?pagesize=1000&pagenumber=1442', 'https://data.usajobs.gov/api/historicjoa?pagesize=1000&pagenumber=1443', 'https://data.usajobs.gov/api/historicjoa?pagesize=1000&pagenumber=1444', 'https://data.usajobs.gov/api/historicjoa?pagesize=1000&pagenumber=1445', 'https://data.usajobs.gov/api/historicjoa?pagesize=1000&pagenumber=1446', 'https://data.usajobs.gov/api/historicjoa?pagesize=1000&pagenumber=1447', 'https://data.usajobs.gov/api/historicjoa?pagesize=1000&pagenumber=1448', 'https://data.usajobs.gov/api/historicjoa?pagesize=1000&pagenumber=1449', 'https://data.usajobs.gov/api/historicjoa?pagesize=1000&pagenumber=1450', 'https://data.usajobs.gov/api/historicjoa?pagesize=1000&pagenumber=1451', 'https://data.usajobs.gov/api/historicjoa?pagesize=1000&pagenumber=1452', 'https://data.usajobs.gov/api/historicjoa?pagesize=1000&pagenumber=1453', 'https://data.usajobs.gov/api/historicjoa?pagesize=1000&pagenumber=1454', 'https://data.usajobs.gov/api/historicjoa?pagesize=1000&pagenumber=1455', 'https://data.usajobs.gov/api/historicjoa?pagesize=1000&pagenumber=1456', 'https://data.usajobs.gov/api/historicjoa?pagesize=1000&pagenumber=1457', 'https://data.usajobs.gov/api/historicjoa?pagesize=1000&pagenumber=1458', 'https://data.usajobs.gov/api/historicjoa?pagesize=1000&pagenumber=1459', 'https://data.usajobs.gov/api/historicjoa?pagesize=1000&pagenumber=1460', 'https://data.usajobs.gov/api/historicjoa?pagesize=1000&pagenumber=1461', 'https://data.usajobs.gov/api/historicjoa?pagesize=1000&pagenumber=1462', 'https://data.usajobs.gov/api/historicjoa?pagesize=1000&pagenumber=1463', 'https://data.usajobs.gov/api/historicjoa?pagesize=1000&pagenumber=1464', 'https://data.usajobs.gov/api/historicjoa?pagesize=1000&pagenumber=1465', 'https://data.usajobs.gov/api/historicjoa?pagesize=1000&pagenumber=1466', 'https://data.usajobs.gov/api/historicjoa?pagesize=1000&pagenumber=1467', 'https://data.usajobs.gov/api/historicjoa?pagesize=1000&pagenumber=1468', 'https://data.usajobs.gov/api/historicjoa?pagesize=1000&pagenumber=1469', 'https://data.usajobs.gov/api/historicjoa?pagesize=1000&pagenumber=1470', 'https://data.usajobs.gov/api/historicjoa?pagesize=1000&pagenumber=1471', 'https://data.usajobs.gov/api/historicjoa?pagesize=1000&pagenumber=1472', 'https://data.usajobs.gov/api/historicjoa?pagesize=1000&pagenumber=1473', 'https://data.usajobs.gov/api/historicjoa?pagesize=1000&pagenumber=1474', 'https://data.usajobs.gov/api/historicjoa?pagesize=1000&pagenumber=1475', 'https://data.usajobs.gov/api/historicjoa?pagesize=1000&pagenumber=1476', 'https://data.usajobs.gov/api/historicjoa?pagesize=1000&pagenumber=1477', 'https://data.usajobs.gov/api/historicjoa?pagesize=1000&pagenumber=1478', 'https://data.usajobs.gov/api/historicjoa?pagesize=1000&pagenumber=1479', 'https://data.usajobs.gov/api/historicjoa?pagesize=1000&pagenumber=1480', 'https://data.usajobs.gov/api/historicjoa?pagesize=1000&pagenumber=1481', 'https://data.usajobs.gov/api/historicjoa?pagesize=1000&pagenumber=1482', 'https://data.usajobs.gov/api/historicjoa?pagesize=1000&pagenumber=1483', 'https://data.usajobs.gov/api/historicjoa?pagesize=1000&pagenumber=1484', 'https://data.usajobs.gov/api/historicjoa?pagesize=1000&pagenumber=1485', 'https://data.usajobs.gov/api/historicjoa?pagesize=1000&pagenumber=1486', 'https://data.usajobs.gov/api/historicjoa?pagesize=1000&pagenumber=1487', 'https://data.usajobs.gov/api/historicjoa?pagesize=1000&pagenumber=1488', 'https://data.usajobs.gov/api/historicjoa?pagesize=1000&pagenumber=1489', 'https://data.usajobs.gov/api/historicjoa?pagesize=1000&pagenumber=1490', 'https://data.usajobs.gov/api/historicjoa?pagesize=1000&pagenumber=1491', 'https://data.usajobs.gov/api/historicjoa?pagesize=1000&pagenumber=1492', 'https://data.usajobs.gov/api/historicjoa?pagesize=1000&pagenumber=1493', 'https://data.usajobs.gov/api/historicjoa?pagesize=1000&pagenumber=1494', 'https://data.usajobs.gov/api/historicjoa?pagesize=1000&pagenumber=1495', 'https://data.usajobs.gov/api/historicjoa?pagesize=1000&pagenumber=1496', 'https://data.usajobs.gov/api/historicjoa?pagesize=1000&pagenumber=1497', 'https://data.usajobs.gov/api/historicjoa?pagesize=1000&pagenumber=1498', 'https://data.usajobs.gov/api/historicjoa?pagesize=1000&pagenumber=1499', 'https://data.usajobs.gov/api/historicjoa?pagesize=1000&pagenumber=1500', 'https://data.usajobs.gov/api/historicjoa?pagesize=1000&pagenumber=1501', 'https://data.usajobs.gov/api/historicjoa?pagesize=1000&pagenumber=1502', 'https://data.usajobs.gov/api/historicjoa?pagesize=1000&pagenumber=1503', 'https://data.usajobs.gov/api/historicjoa?pagesize=1000&pagenumber=1504', 'https://data.usajobs.gov/api/historicjoa?pagesize=1000&pagenumber=1505', 'https://data.usajobs.gov/api/historicjoa?pagesize=1000&pagenumber=1506', 'https://data.usajobs.gov/api/historicjoa?pagesize=1000&pagenumber=1507', 'https://data.usajobs.gov/api/historicjoa?pagesize=1000&pagenumber=1508', 'https://data.usajobs.gov/api/historicjoa?pagesize=1000&pagenumber=1509', 'https://data.usajobs.gov/api/historicjoa?pagesize=1000&pagenumber=1510', 'https://data.usajobs.gov/api/historicjoa?pagesize=1000&pagenumber=1511', 'https://data.usajobs.gov/api/historicjoa?pagesize=1000&pagenumber=1512', 'https://data.usajobs.gov/api/historicjoa?pagesize=1000&pagenumber=1513', 'https://data.usajobs.gov/api/historicjoa?pagesize=1000&pagenumber=1514', 'https://data.usajobs.gov/api/historicjoa?pagesize=1000&pagenumber=1515', 'https://data.usajobs.gov/api/historicjoa?pagesize=1000&pagenumber=1516', 'https://data.usajobs.gov/api/historicjoa?pagesize=1000&pagenumber=1517', 'https://data.usajobs.gov/api/historicjoa?pagesize=1000&pagenumber=1518', 'https://data.usajobs.gov/api/historicjoa?pagesize=1000&pagenumber=1519', 'https://data.usajobs.gov/api/historicjoa?pagesize=1000&pagenumber=1520', 'https://data.usajobs.gov/api/historicjoa?pagesize=1000&pagenumber=1521', 'https://data.usajobs.gov/api/historicjoa?pagesize=1000&pagenumber=1522', 'https://data.usajobs.gov/api/historicjoa?pagesize=1000&pagenumber=1523', 'https://data.usajobs.gov/api/historicjoa?pagesize=1000&pagenumber=1524', 'https://data.usajobs.gov/api/historicjoa?pagesize=1000&pagenumber=1525', 'https://data.usajobs.gov/api/historicjoa?pagesize=1000&pagenumber=1526', 'https://data.usajobs.gov/api/historicjoa?pagesize=1000&pagenumber=1527', 'https://data.usajobs.gov/api/historicjoa?pagesize=1000&pagenumber=1528', 'https://data.usajobs.gov/api/historicjoa?pagesize=1000&pagenumber=1529', 'https://data.usajobs.gov/api/historicjoa?pagesize=1000&pagenumber=1530', 'https://data.usajobs.gov/api/historicjoa?pagesize=1000&pagenumber=1531', 'https://data.usajobs.gov/api/historicjoa?pagesize=1000&pagenumber=1532', 'https://data.usajobs.gov/api/historicjoa?pagesize=1000&pagenumber=1533', 'https://data.usajobs.gov/api/historicjoa?pagesize=1000&pagenumber=1534', 'https://data.usajobs.gov/api/historicjoa?pagesize=1000&pagenumber=1535', 'https://data.usajobs.gov/api/historicjoa?pagesize=1000&pagenumber=1536', 'https://data.usajobs.gov/api/historicjoa?pagesize=1000&pagenumber=1537', 'https://data.usajobs.gov/api/historicjoa?pagesize=1000&pagenumber=1538', 'https://data.usajobs.gov/api/historicjoa?pagesize=1000&pagenumber=1539', 'https://data.usajobs.gov/api/historicjoa?pagesize=1000&pagenumber=1540', 'https://data.usajobs.gov/api/historicjoa?pagesize=1000&pagenumber=1541', 'https://data.usajobs.gov/api/historicjoa?pagesize=1000&pagenumber=1542', 'https://data.usajobs.gov/api/historicjoa?pagesize=1000&pagenumber=1543', 'https://data.usajobs.gov/api/historicjoa?pagesize=1000&pagenumber=1544', 'https://data.usajobs.gov/api/historicjoa?pagesize=1000&pagenumber=1545', 'https://data.usajobs.gov/api/historicjoa?pagesize=1000&pagenumber=1546', 'https://data.usajobs.gov/api/historicjoa?pagesize=1000&pagenumber=1547', 'https://data.usajobs.gov/api/historicjoa?pagesize=1000&pagenumber=1548', 'https://data.usajobs.gov/api/historicjoa?pagesize=1000&pagenumber=1549', 'https://data.usajobs.gov/api/historicjoa?pagesize=1000&pagenumber=1550', 'https://data.usajobs.gov/api/historicjoa?pagesize=1000&pagenumber=1551', 'https://data.usajobs.gov/api/historicjoa?pagesize=1000&pagenumber=1552', 'https://data.usajobs.gov/api/historicjoa?pagesize=1000&pagenumber=1553', 'https://data.usajobs.gov/api/historicjoa?pagesize=1000&pagenumber=1554', 'https://data.usajobs.gov/api/historicjoa?pagesize=1000&pagenumber=1555', 'https://data.usajobs.gov/api/historicjoa?pagesize=1000&pagenumber=1556', 'https://data.usajobs.gov/api/historicjoa?pagesize=1000&pagenumber=1557', 'https://data.usajobs.gov/api/historicjoa?pagesize=1000&pagenumber=1558', 'https://data.usajobs.gov/api/historicjoa?pagesize=1000&pagenumber=1559', 'https://data.usajobs.gov/api/historicjoa?pagesize=1000&pagenumber=1560', 'https://data.usajobs.gov/api/historicjoa?pagesize=1000&pagenumber=1561', 'https://data.usajobs.gov/api/historicjoa?pagesize=1000&pagenumber=1562', 'https://data.usajobs.gov/api/historicjoa?pagesize=1000&pagenumber=1563', 'https://data.usajobs.gov/api/historicjoa?pagesize=1000&pagenumber=1564', 'https://data.usajobs.gov/api/historicjoa?pagesize=1000&pagenumber=1565', 'https://data.usajobs.gov/api/historicjoa?pagesize=1000&pagenumber=1566', 'https://data.usajobs.gov/api/historicjoa?pagesize=1000&pagenumber=1567', 'https://data.usajobs.gov/api/historicjoa?pagesize=1000&pagenumber=1568', 'https://data.usajobs.gov/api/historicjoa?pagesize=1000&pagenumber=1569', 'https://data.usajobs.gov/api/historicjoa?pagesize=1000&pagenumber=1570', 'https://data.usajobs.gov/api/historicjoa?pagesize=1000&pagenumber=1571', 'https://data.usajobs.gov/api/historicjoa?pagesize=1000&pagenumber=1572', 'https://data.usajobs.gov/api/historicjoa?pagesize=1000&pagenumber=1573', 'https://data.usajobs.gov/api/historicjoa?pagesize=1000&pagenumber=1574', 'https://data.usajobs.gov/api/historicjoa?pagesize=1000&pagenumber=1575', 'https://data.usajobs.gov/api/historicjoa?pagesize=1000&pagenumber=1576', 'https://data.usajobs.gov/api/historicjoa?pagesize=1000&pagenumber=1577', 'https://data.usajobs.gov/api/historicjoa?pagesize=1000&pagenumber=1578', 'https://data.usajobs.gov/api/historicjoa?pagesize=1000&pagenumber=1579', 'https://data.usajobs.gov/api/historicjoa?pagesize=1000&pagenumber=1580', 'https://data.usajobs.gov/api/historicjoa?pagesize=1000&pagenumber=1581', 'https://data.usajobs.gov/api/historicjoa?pagesize=1000&pagenumber=1582', 'https://data.usajobs.gov/api/historicjoa?pagesize=1000&pagenumber=1583', 'https://data.usajobs.gov/api/historicjoa?pagesize=1000&pagenumber=1584', 'https://data.usajobs.gov/api/historicjoa?pagesize=1000&pagenumber=1585', 'https://data.usajobs.gov/api/historicjoa?pagesize=1000&pagenumber=1586', 'https://data.usajobs.gov/api/historicjoa?pagesize=1000&pagenumber=1587', 'https://data.usajobs.gov/api/historicjoa?pagesize=1000&pagenumber=1588', 'https://data.usajobs.gov/api/historicjoa?pagesize=1000&pagenumber=1589', 'https://data.usajobs.gov/api/historicjoa?pagesize=1000&pagenumber=1590', 'https://data.usajobs.gov/api/historicjoa?pagesize=1000&pagenumber=1591', 'https://data.usajobs.gov/api/historicjoa?pagesize=1000&pagenumber=1592', 'https://data.usajobs.gov/api/historicjoa?pagesize=1000&pagenumber=1593', 'https://data.usajobs.gov/api/historicjoa?pagesize=1000&pagenumber=1594', 'https://data.usajobs.gov/api/historicjoa?pagesize=1000&pagenumber=1595', 'https://data.usajobs.gov/api/historicjoa?pagesize=1000&pagenumber=1596', 'https://data.usajobs.gov/api/historicjoa?pagesize=1000&pagenumber=1597', 'https://data.usajobs.gov/api/historicjoa?pagesize=1000&pagenumber=1598', 'https://data.usajobs.gov/api/historicjoa?pagesize=1000&pagenumber=1599', 'https://data.usajobs.gov/api/historicjoa?pagesize=1000&pagenumber=1600', 'https://data.usajobs.gov/api/historicjoa?pagesize=1000&pagenumber=1601', 'https://data.usajobs.gov/api/historicjoa?pagesize=1000&pagenumber=1602', 'https://data.usajobs.gov/api/historicjoa?pagesize=1000&pagenumber=1603', 'https://data.usajobs.gov/api/historicjoa?pagesize=1000&pagenumber=1604', 'https://data.usajobs.gov/api/historicjoa?pagesize=1000&pagenumber=1605', 'https://data.usajobs.gov/api/historicjoa?pagesize=1000&pagenumber=1606', 'https://data.usajobs.gov/api/historicjoa?pagesize=1000&pagenumber=1607', 'https://data.usajobs.gov/api/historicjoa?pagesize=1000&pagenumber=1608', 'https://data.usajobs.gov/api/historicjoa?pagesize=1000&pagenumber=1609', 'https://data.usajobs.gov/api/historicjoa?pagesize=1000&pagenumber=1610', 'https://data.usajobs.gov/api/historicjoa?pagesize=1000&pagenumber=1611', 'https://data.usajobs.gov/api/historicjoa?pagesize=1000&pagenumber=1612', 'https://data.usajobs.gov/api/historicjoa?pagesize=1000&pagenumber=1613', 'https://data.usajobs.gov/api/historicjoa?pagesize=1000&pagenumber=1614', 'https://data.usajobs.gov/api/historicjoa?pagesize=1000&pagenumber=1615', 'https://data.usajobs.gov/api/historicjoa?pagesize=1000&pagenumber=1616', 'https://data.usajobs.gov/api/historicjoa?pagesize=1000&pagenumber=1617', 'https://data.usajobs.gov/api/historicjoa?pagesize=1000&pagenumber=1618', 'https://data.usajobs.gov/api/historicjoa?pagesize=1000&pagenumber=1619', 'https://data.usajobs.gov/api/historicjoa?pagesize=1000&pagenumber=1620', 'https://data.usajobs.gov/api/historicjoa?pagesize=1000&pagenumber=1621', 'https://data.usajobs.gov/api/historicjoa?pagesize=1000&pagenumber=1622', 'https://data.usajobs.gov/api/historicjoa?pagesize=1000&pagenumber=1623', 'https://data.usajobs.gov/api/historicjoa?pagesize=1000&pagenumber=1624', 'https://data.usajobs.gov/api/historicjoa?pagesize=1000&pagenumber=1625', 'https://data.usajobs.gov/api/historicjoa?pagesize=1000&pagenumber=1626', 'https://data.usajobs.gov/api/historicjoa?pagesize=1000&pagenumber=1627', 'https://data.usajobs.gov/api/historicjoa?pagesize=1000&pagenumber=1628', 'https://data.usajobs.gov/api/historicjoa?pagesize=1000&pagenumber=1629', 'https://data.usajobs.gov/api/historicjoa?pagesize=1000&pagenumber=1630', 'https://data.usajobs.gov/api/historicjoa?pagesize=1000&pagenumber=1631', 'https://data.usajobs.gov/api/historicjoa?pagesize=1000&pagenumber=1632', 'https://data.usajobs.gov/api/historicjoa?pagesize=1000&pagenumber=1633', 'https://data.usajobs.gov/api/historicjoa?pagesize=1000&pagenumber=1634', 'https://data.usajobs.gov/api/historicjoa?pagesize=1000&pagenumber=1635', 'https://data.usajobs.gov/api/historicjoa?pagesize=1000&pagenumber=1636', 'https://data.usajobs.gov/api/historicjoa?pagesize=1000&pagenumber=1637', 'https://data.usajobs.gov/api/historicjoa?pagesize=1000&pagenumber=1638', 'https://data.usajobs.gov/api/historicjoa?pagesize=1000&pagenumber=1639', 'https://data.usajobs.gov/api/historicjoa?pagesize=1000&pagenumber=1640', 'https://data.usajobs.gov/api/historicjoa?pagesize=1000&pagenumber=1641', 'https://data.usajobs.gov/api/historicjoa?pagesize=1000&pagenumber=1642', 'https://data.usajobs.gov/api/historicjoa?pagesize=1000&pagenumber=1643', 'https://data.usajobs.gov/api/historicjoa?pagesize=1000&pagenumber=1644', 'https://data.usajobs.gov/api/historicjoa?pagesize=1000&pagenumber=1645', 'https://data.usajobs.gov/api/historicjoa?pagesize=1000&pagenumber=1646', 'https://data.usajobs.gov/api/historicjoa?pagesize=1000&pagenumber=1647', 'https://data.usajobs.gov/api/historicjoa?pagesize=1000&pagenumber=1648', 'https://data.usajobs.gov/api/historicjoa?pagesize=1000&pagenumber=1649', 'https://data.usajobs.gov/api/historicjoa?pagesize=1000&pagenumber=1650', 'https://data.usajobs.gov/api/historicjoa?pagesize=1000&pagenumber=1651', 'https://data.usajobs.gov/api/historicjoa?pagesize=1000&pagenumber=1652', 'https://data.usajobs.gov/api/historicjoa?pagesize=1000&pagenumber=1653', 'https://data.usajobs.gov/api/historicjoa?pagesize=1000&pagenumber=1654', 'https://data.usajobs.gov/api/historicjoa?pagesize=1000&pagenumber=1655', 'https://data.usajobs.gov/api/historicjoa?pagesize=1000&pagenumber=1656', 'https://data.usajobs.gov/api/historicjoa?pagesize=1000&pagenumber=1657', 'https://data.usajobs.gov/api/historicjoa?pagesize=1000&pagenumber=1658', 'https://data.usajobs.gov/api/historicjoa?pagesize=1000&pagenumber=1659', 'https://data.usajobs.gov/api/historicjoa?pagesize=1000&pagenumber=1660', 'https://data.usajobs.gov/api/historicjoa?pagesize=1000&pagenumber=1661', 'https://data.usajobs.gov/api/historicjoa?pagesize=1000&pagenumber=1662', 'https://data.usajobs.gov/api/historicjoa?pagesize=1000&pagenumber=1663', 'https://data.usajobs.gov/api/historicjoa?pagesize=1000&pagenumber=1664', 'https://data.usajobs.gov/api/historicjoa?pagesize=1000&pagenumber=1665', 'https://data.usajobs.gov/api/historicjoa?pagesize=1000&pagenumber=1666', 'https://data.usajobs.gov/api/historicjoa?pagesize=1000&pagenumber=1667', 'https://data.usajobs.gov/api/historicjoa?pagesize=1000&pagenumber=1668', 'https://data.usajobs.gov/api/historicjoa?pagesize=1000&pagenumber=1669', 'https://data.usajobs.gov/api/historicjoa?pagesize=1000&pagenumber=1670', 'https://data.usajobs.gov/api/historicjoa?pagesize=1000&pagenumber=1671', 'https://data.usajobs.gov/api/historicjoa?pagesize=1000&pagenumber=1672', 'https://data.usajobs.gov/api/historicjoa?pagesize=1000&pagenumber=1673', 'https://data.usajobs.gov/api/historicjoa?pagesize=1000&pagenumber=1674', 'https://data.usajobs.gov/api/historicjoa?pagesize=1000&pagenumber=1675', 'https://data.usajobs.gov/api/historicjoa?pagesize=1000&pagenumber=1676', 'https://data.usajobs.gov/api/historicjoa?pagesize=1000&pagenumber=1677', 'https://data.usajobs.gov/api/historicjoa?pagesize=1000&pagenumber=1678', 'https://data.usajobs.gov/api/historicjoa?pagesize=1000&pagenumber=1679', 'https://data.usajobs.gov/api/historicjoa?pagesize=1000&pagenumber=1680', 'https://data.usajobs.gov/api/historicjoa?pagesize=1000&pagenumber=1681', 'https://data.usajobs.gov/api/historicjoa?pagesize=1000&pagenumber=1682', 'https://data.usajobs.gov/api/historicjoa?pagesize=1000&pagenumber=1683', 'https://data.usajobs.gov/api/historicjoa?pagesize=1000&pagenumber=1684', 'https://data.usajobs.gov/api/historicjoa?pagesize=1000&pagenumber=1685', 'https://data.usajobs.gov/api/historicjoa?pagesize=1000&pagenumber=1686', 'https://data.usajobs.gov/api/historicjoa?pagesize=1000&pagenumber=1687', 'https://data.usajobs.gov/api/historicjoa?pagesize=1000&pagenumber=1688', 'https://data.usajobs.gov/api/historicjoa?pagesize=1000&pagenumber=1689', 'https://data.usajobs.gov/api/historicjoa?pagesize=1000&pagenumber=1690', 'https://data.usajobs.gov/api/historicjoa?pagesize=1000&pagenumber=1691', 'https://data.usajobs.gov/api/historicjoa?pagesize=1000&pagenumber=1692', 'https://data.usajobs.gov/api/historicjoa?pagesize=1000&pagenumber=1693', 'https://data.usajobs.gov/api/historicjoa?pagesize=1000&pagenumber=1694', 'https://data.usajobs.gov/api/historicjoa?pagesize=1000&pagenumber=1695', 'https://data.usajobs.gov/api/historicjoa?pagesize=1000&pagenumber=1696', 'https://data.usajobs.gov/api/historicjoa?pagesize=1000&pagenumber=1697', 'https://data.usajobs.gov/api/historicjoa?pagesize=1000&pagenumber=1698', 'https://data.usajobs.gov/api/historicjoa?pagesize=1000&pagenumber=1699', 'https://data.usajobs.gov/api/historicjoa?pagesize=1000&pagenumber=1700', 'https://data.usajobs.gov/api/historicjoa?pagesize=1000&pagenumber=1701']\n"
     ]
    },
    {
     "data": {
      "text/plain": [
       "301"
      ]
     },
     "execution_count": 137,
     "metadata": {},
     "output_type": "execute_result"
    }
   ],
   "source": [
    "print(usa_jobs_URLs)\n",
    "len(usa_jobs_URLs)"
   ]
  },
  {
   "cell_type": "code",
   "execution_count": 138,
   "id": "2b7bc346",
   "metadata": {},
   "outputs": [
    {
     "data": {
      "text/plain": [
       "100"
      ]
     },
     "execution_count": 138,
     "metadata": {},
     "output_type": "execute_result"
    }
   ],
   "source": [
    "len(usa_jobs_data)"
   ]
  },
  {
   "cell_type": "code",
   "execution_count": 139,
   "id": "c80fed88",
   "metadata": {},
   "outputs": [
    {
     "name": "stdout",
     "output_type": "stream",
     "text": [
      "100000\n"
     ]
    }
   ],
   "source": [
    "sum = 0\n",
    "\n",
    "for x in usa_jobs_data:\n",
    "    sum = sum + len(x)\n",
    "    \n",
    "print(sum)"
   ]
  },
  {
   "cell_type": "code",
   "execution_count": 140,
   "id": "bc04c2f9",
   "metadata": {},
   "outputs": [
    {
     "data": {
      "text/plain": [
       "1000"
      ]
     },
     "execution_count": 140,
     "metadata": {},
     "output_type": "execute_result"
    }
   ],
   "source": [
    "len(usa_jobs_data[0])"
   ]
  },
  {
   "cell_type": "code",
   "execution_count": 141,
   "id": "1d7fe5df",
   "metadata": {},
   "outputs": [
    {
     "name": "stdout",
     "output_type": "stream",
     "text": [
      "(100000, 44)\n"
     ]
    },
    {
     "data": {
      "text/html": [
       "<div>\n",
       "<style scoped>\n",
       "    .dataframe tbody tr th:only-of-type {\n",
       "        vertical-align: middle;\n",
       "    }\n",
       "\n",
       "    .dataframe tbody tr th {\n",
       "        vertical-align: top;\n",
       "    }\n",
       "\n",
       "    .dataframe thead th {\n",
       "        text-align: right;\n",
       "    }\n",
       "</style>\n",
       "<table border=\"1\" class=\"dataframe\">\n",
       "  <thead>\n",
       "    <tr style=\"text-align: right;\">\n",
       "      <th></th>\n",
       "      <th>usajobsControlNumber</th>\n",
       "      <th>hiringAgencyCode</th>\n",
       "      <th>hiringAgencyName</th>\n",
       "      <th>hiringDepartmentCode</th>\n",
       "      <th>hiringDepartmentName</th>\n",
       "      <th>agencyLevel</th>\n",
       "      <th>agencyLevelSort</th>\n",
       "      <th>appointmentType</th>\n",
       "      <th>workSchedule</th>\n",
       "      <th>payScale</th>\n",
       "      <th>salaryType</th>\n",
       "      <th>vendor</th>\n",
       "      <th>travelRequirement</th>\n",
       "      <th>teleworkEligible</th>\n",
       "      <th>serviceType</th>\n",
       "      <th>securityClearanceRequired</th>\n",
       "      <th>securityClearance</th>\n",
       "      <th>whoMayApply</th>\n",
       "      <th>announcementClosingTypeCode</th>\n",
       "      <th>announcementClosingTypeDescription</th>\n",
       "      <th>positionOpenDate</th>\n",
       "      <th>positionCloseDate</th>\n",
       "      <th>positionExpireDate</th>\n",
       "      <th>announcementNumber</th>\n",
       "      <th>hiringSubelementName</th>\n",
       "      <th>positionTitle</th>\n",
       "      <th>minimumGrade</th>\n",
       "      <th>maximumGrade</th>\n",
       "      <th>promotionPotential</th>\n",
       "      <th>minimumSalary</th>\n",
       "      <th>maximumSalary</th>\n",
       "      <th>supervisoryStatus</th>\n",
       "      <th>drugTestRequired</th>\n",
       "      <th>relocationExpensesReimbursed</th>\n",
       "      <th>totalOpenings</th>\n",
       "      <th>disableAppyOnline</th>\n",
       "      <th>positionOpeningStatus</th>\n",
       "      <th>applicationsStarted</th>\n",
       "      <th>hiringPaths</th>\n",
       "      <th>jobCategories</th>\n",
       "      <th>positionLocations</th>\n",
       "      <th>missionCriticalOccupations</th>\n",
       "      <th>keyStandardRequirements</th>\n",
       "      <th>_links</th>\n",
       "    </tr>\n",
       "  </thead>\n",
       "  <tbody>\n",
       "    <tr>\n",
       "      <th>0</th>\n",
       "      <td>429671500</td>\n",
       "      <td>DD63</td>\n",
       "      <td>Defense Contract Management Agency</td>\n",
       "      <td>5</td>\n",
       "      <td>Department of Defense</td>\n",
       "      <td>2</td>\n",
       "      <td>Department of Defense\\Defense Contract Managem...</td>\n",
       "      <td>Permanent</td>\n",
       "      <td>Full-time</td>\n",
       "      <td>GS</td>\n",
       "      <td>Per Year</td>\n",
       "      <td>USASTAFFING</td>\n",
       "      <td>25% or less</td>\n",
       "      <td>N</td>\n",
       "      <td>None</td>\n",
       "      <td>Y</td>\n",
       "      <td>Secret</td>\n",
       "      <td>United States Citizens</td>\n",
       "      <td>None</td>\n",
       "      <td>None</td>\n",
       "      <td>2016-02-18T00:00:00</td>\n",
       "      <td>2016-02-29T00:00:00</td>\n",
       "      <td>2017-05-25T00:00:00</td>\n",
       "      <td>SWH816EEEHA0231101609136R</td>\n",
       "      <td>Defense Contract Management Agency, DCMA Opera...</td>\n",
       "      <td>Quality Assurance Specialist (Mechanical) (Dep...</td>\n",
       "      <td>11</td>\n",
       "      <td>11</td>\n",
       "      <td>None</td>\n",
       "      <td>63323.00</td>\n",
       "      <td>82320.00</td>\n",
       "      <td>N</td>\n",
       "      <td>N</td>\n",
       "      <td>N</td>\n",
       "      <td>1</td>\n",
       "      <td>N</td>\n",
       "      <td>Job canceled</td>\n",
       "      <td>75</td>\n",
       "      <td>[{'hiringPath': 'U.S. Citizens, Nationals or t...</td>\n",
       "      <td>[{'series': '1910'}]</td>\n",
       "      <td>[{'positionLocationId': 10253844, 'positionLoc...</td>\n",
       "      <td>[]</td>\n",
       "      <td>[{'keyStandardRequirement': None, 'keyStandard...</td>\n",
       "      <td>[{'rel': 'AnnouncementText', 'href': '/api/his...</td>\n",
       "    </tr>\n",
       "    <tr>\n",
       "      <th>1</th>\n",
       "      <td>454464000</td>\n",
       "      <td>VATA</td>\n",
       "      <td>Veterans Health Administration</td>\n",
       "      <td>21</td>\n",
       "      <td>Department of Veterans Affairs</td>\n",
       "      <td>2</td>\n",
       "      <td>Department of Veterans Affairs\\Veterans Health...</td>\n",
       "      <td>Permanent</td>\n",
       "      <td>Full-time</td>\n",
       "      <td>VN</td>\n",
       "      <td>Per Year</td>\n",
       "      <td>USASTAFFING</td>\n",
       "      <td>Not required</td>\n",
       "      <td>N</td>\n",
       "      <td>None</td>\n",
       "      <td>Y</td>\n",
       "      <td>Other</td>\n",
       "      <td>United States Citizens</td>\n",
       "      <td>None</td>\n",
       "      <td>None</td>\n",
       "      <td>2016-10-25T00:00:00</td>\n",
       "      <td>2017-09-20T00:00:00</td>\n",
       "      <td>None</td>\n",
       "      <td>AH-16-JRK-1834410-BU</td>\n",
       "      <td>None</td>\n",
       "      <td>RN - Intensive Care Unit (night shift only)</td>\n",
       "      <td>00</td>\n",
       "      <td>00</td>\n",
       "      <td>None</td>\n",
       "      <td>53885.00</td>\n",
       "      <td>117808.00</td>\n",
       "      <td>N</td>\n",
       "      <td>N</td>\n",
       "      <td>N</td>\n",
       "      <td>11</td>\n",
       "      <td>N</td>\n",
       "      <td>Applications under review</td>\n",
       "      <td>221</td>\n",
       "      <td>[{'hiringPath': 'U.S. Citizens, Nationals or t...</td>\n",
       "      <td>[{'series': '0610'}]</td>\n",
       "      <td>[{'positionLocationId': 12360514, 'positionLoc...</td>\n",
       "      <td>[]</td>\n",
       "      <td>[{'keyStandardRequirement': None, 'keyStandard...</td>\n",
       "      <td>[{'rel': 'AnnouncementText', 'href': '/api/his...</td>\n",
       "    </tr>\n",
       "    <tr>\n",
       "      <th>2</th>\n",
       "      <td>460312700</td>\n",
       "      <td>VATA</td>\n",
       "      <td>Veterans Health Administration</td>\n",
       "      <td>21</td>\n",
       "      <td>Department of Veterans Affairs</td>\n",
       "      <td>2</td>\n",
       "      <td>Department of Veterans Affairs\\Veterans Health...</td>\n",
       "      <td>Permanent</td>\n",
       "      <td>Part-time</td>\n",
       "      <td>GS</td>\n",
       "      <td>Per Year</td>\n",
       "      <td>USASTAFFING</td>\n",
       "      <td>Not required</td>\n",
       "      <td>N</td>\n",
       "      <td>None</td>\n",
       "      <td>N</td>\n",
       "      <td>Not Required</td>\n",
       "      <td>Status Candidates (Merit Promotion and VEOA El...</td>\n",
       "      <td>None</td>\n",
       "      <td>None</td>\n",
       "      <td>2017-01-01T00:00:00</td>\n",
       "      <td>2017-04-10T00:00:00</td>\n",
       "      <td>None</td>\n",
       "      <td>AD-17-LC-1879912-BU-SR</td>\n",
       "      <td>None</td>\n",
       "      <td>Patient Observation Aid</td>\n",
       "      <td>02</td>\n",
       "      <td>02</td>\n",
       "      <td>None</td>\n",
       "      <td>25655.00</td>\n",
       "      <td>32293.00</td>\n",
       "      <td>N</td>\n",
       "      <td>N</td>\n",
       "      <td>N</td>\n",
       "      <td>3</td>\n",
       "      <td>N</td>\n",
       "      <td>Applications under review</td>\n",
       "      <td>36</td>\n",
       "      <td>[{'hiringPath': ''}, {'hiringPath': 'Individua...</td>\n",
       "      <td>[{'series': '0102'}]</td>\n",
       "      <td>[{'positionLocationId': 11836391, 'positionLoc...</td>\n",
       "      <td>[]</td>\n",
       "      <td>[{'keyStandardRequirement': None, 'keyStandard...</td>\n",
       "      <td>[{'rel': 'AnnouncementText', 'href': '/api/his...</td>\n",
       "    </tr>\n",
       "    <tr>\n",
       "      <th>3</th>\n",
       "      <td>461654100</td>\n",
       "      <td>HE37</td>\n",
       "      <td>Indian Health Service</td>\n",
       "      <td>11</td>\n",
       "      <td>Department of Health and Human Services</td>\n",
       "      <td>2</td>\n",
       "      <td>Department of Health and Human Services\\Indian...</td>\n",
       "      <td>Permanent</td>\n",
       "      <td>Full-time</td>\n",
       "      <td>GS</td>\n",
       "      <td>Per Year</td>\n",
       "      <td>USASTAFFING</td>\n",
       "      <td>Not required</td>\n",
       "      <td>N</td>\n",
       "      <td>None</td>\n",
       "      <td>Y</td>\n",
       "      <td>Public Trust - Background Investigation</td>\n",
       "      <td>All groups of qualified individuals</td>\n",
       "      <td>None</td>\n",
       "      <td>None</td>\n",
       "      <td>2017-01-09T00:00:00</td>\n",
       "      <td>2017-12-31T00:00:00</td>\n",
       "      <td>None</td>\n",
       "      <td>IHS-17-NN-1888861-DH</td>\n",
       "      <td>None</td>\n",
       "      <td>Nurse Anesthetist - DH</td>\n",
       "      <td>12</td>\n",
       "      <td>12</td>\n",
       "      <td>None</td>\n",
       "      <td>134852.00</td>\n",
       "      <td>175313.00</td>\n",
       "      <td>N</td>\n",
       "      <td>N</td>\n",
       "      <td>Y</td>\n",
       "      <td>Few</td>\n",
       "      <td>N</td>\n",
       "      <td>Applications under review</td>\n",
       "      <td>9</td>\n",
       "      <td>[{'hiringPath': 'U.S. Citizens, Nationals or t...</td>\n",
       "      <td>[{'series': '0610'}]</td>\n",
       "      <td>[{'positionLocationId': 12097237, 'positionLoc...</td>\n",
       "      <td>[]</td>\n",
       "      <td>[{'keyStandardRequirement': None, 'keyStandard...</td>\n",
       "      <td>[{'rel': 'AnnouncementText', 'href': '/api/his...</td>\n",
       "    </tr>\n",
       "    <tr>\n",
       "      <th>4</th>\n",
       "      <td>462899700</td>\n",
       "      <td>HSBC</td>\n",
       "      <td>Transportation Security Administration</td>\n",
       "      <td>12</td>\n",
       "      <td>Department of Homeland Security</td>\n",
       "      <td>2</td>\n",
       "      <td>Department of Homeland Security\\Transportation...</td>\n",
       "      <td>Permanent</td>\n",
       "      <td>Part-time</td>\n",
       "      <td>SV</td>\n",
       "      <td>Per Hour</td>\n",
       "      <td>Monster - Hiring Management</td>\n",
       "      <td>Occasional travel</td>\n",
       "      <td>N</td>\n",
       "      <td>None</td>\n",
       "      <td>N</td>\n",
       "      <td>Not Required</td>\n",
       "      <td>Public</td>\n",
       "      <td>None</td>\n",
       "      <td>None</td>\n",
       "      <td>2017-02-23T00:00:00</td>\n",
       "      <td>2017-03-21T00:00:00</td>\n",
       "      <td>None</td>\n",
       "      <td>ACV-F09-P001</td>\n",
       "      <td>None</td>\n",
       "      <td>Transportation Security Officer (TSO)</td>\n",
       "      <td>D</td>\n",
       "      <td>D</td>\n",
       "      <td>E</td>\n",
       "      <td>15.37</td>\n",
       "      <td>21.96</td>\n",
       "      <td>N</td>\n",
       "      <td>N</td>\n",
       "      <td>N</td>\n",
       "      <td>None</td>\n",
       "      <td>N</td>\n",
       "      <td>Applications under review</td>\n",
       "      <td>484</td>\n",
       "      <td>[{'hiringPath': 'U.S. Citizens, Nationals or t...</td>\n",
       "      <td>[{'series': '1802'}]</td>\n",
       "      <td>[{'positionLocationId': 11696512, 'positionLoc...</td>\n",
       "      <td>[]</td>\n",
       "      <td>[{'keyStandardRequirement': None, 'keyStandard...</td>\n",
       "      <td>[{'rel': 'AnnouncementText', 'href': '/api/his...</td>\n",
       "    </tr>\n",
       "  </tbody>\n",
       "</table>\n",
       "</div>"
      ],
      "text/plain": [
       "   usajobsControlNumber hiringAgencyCode  \\\n",
       "0             429671500         DD63       \n",
       "1             454464000         VATA       \n",
       "2             460312700         VATA       \n",
       "3             461654100         HE37       \n",
       "4             462899700         HSBC       \n",
       "\n",
       "                         hiringAgencyName hiringDepartmentCode  \\\n",
       "0      Defense Contract Management Agency                    5   \n",
       "1          Veterans Health Administration                   21   \n",
       "2          Veterans Health Administration                   21   \n",
       "3                   Indian Health Service                   11   \n",
       "4  Transportation Security Administration                   12   \n",
       "\n",
       "                      hiringDepartmentName  agencyLevel  \\\n",
       "0                    Department of Defense            2   \n",
       "1           Department of Veterans Affairs            2   \n",
       "2           Department of Veterans Affairs            2   \n",
       "3  Department of Health and Human Services            2   \n",
       "4          Department of Homeland Security            2   \n",
       "\n",
       "                                     agencyLevelSort appointmentType  \\\n",
       "0  Department of Defense\\Defense Contract Managem...       Permanent   \n",
       "1  Department of Veterans Affairs\\Veterans Health...       Permanent   \n",
       "2  Department of Veterans Affairs\\Veterans Health...       Permanent   \n",
       "3  Department of Health and Human Services\\Indian...       Permanent   \n",
       "4  Department of Homeland Security\\Transportation...       Permanent   \n",
       "\n",
       "  workSchedule payScale salaryType                       vendor  \\\n",
       "0    Full-time       GS   Per Year                  USASTAFFING   \n",
       "1    Full-time       VN   Per Year                  USASTAFFING   \n",
       "2    Part-time       GS   Per Year                  USASTAFFING   \n",
       "3    Full-time       GS   Per Year                  USASTAFFING   \n",
       "4    Part-time       SV   Per Hour  Monster - Hiring Management   \n",
       "\n",
       "   travelRequirement teleworkEligible serviceType securityClearanceRequired  \\\n",
       "0        25% or less                N        None                         Y   \n",
       "1       Not required                N        None                         Y   \n",
       "2       Not required                N        None                         N   \n",
       "3       Not required                N        None                         Y   \n",
       "4  Occasional travel                N        None                         N   \n",
       "\n",
       "                         securityClearance  \\\n",
       "0                                   Secret   \n",
       "1                                    Other   \n",
       "2                             Not Required   \n",
       "3  Public Trust - Background Investigation   \n",
       "4                             Not Required   \n",
       "\n",
       "                                         whoMayApply  \\\n",
       "0                            United States Citizens    \n",
       "1                            United States Citizens    \n",
       "2  Status Candidates (Merit Promotion and VEOA El...   \n",
       "3               All groups of qualified individuals    \n",
       "4                                             Public   \n",
       "\n",
       "  announcementClosingTypeCode announcementClosingTypeDescription  \\\n",
       "0                        None                               None   \n",
       "1                        None                               None   \n",
       "2                        None                               None   \n",
       "3                        None                               None   \n",
       "4                        None                               None   \n",
       "\n",
       "      positionOpenDate    positionCloseDate   positionExpireDate  \\\n",
       "0  2016-02-18T00:00:00  2016-02-29T00:00:00  2017-05-25T00:00:00   \n",
       "1  2016-10-25T00:00:00  2017-09-20T00:00:00                 None   \n",
       "2  2017-01-01T00:00:00  2017-04-10T00:00:00                 None   \n",
       "3  2017-01-09T00:00:00  2017-12-31T00:00:00                 None   \n",
       "4  2017-02-23T00:00:00  2017-03-21T00:00:00                 None   \n",
       "\n",
       "          announcementNumber  \\\n",
       "0  SWH816EEEHA0231101609136R   \n",
       "1       AH-16-JRK-1834410-BU   \n",
       "2     AD-17-LC-1879912-BU-SR   \n",
       "3       IHS-17-NN-1888861-DH   \n",
       "4               ACV-F09-P001   \n",
       "\n",
       "                                hiringSubelementName  \\\n",
       "0  Defense Contract Management Agency, DCMA Opera...   \n",
       "1                                               None   \n",
       "2                                               None   \n",
       "3                                               None   \n",
       "4                                               None   \n",
       "\n",
       "                                       positionTitle minimumGrade  \\\n",
       "0  Quality Assurance Specialist (Mechanical) (Dep...           11   \n",
       "1        RN - Intensive Care Unit (night shift only)           00   \n",
       "2                            Patient Observation Aid           02   \n",
       "3                             Nurse Anesthetist - DH           12   \n",
       "4              Transportation Security Officer (TSO)            D   \n",
       "\n",
       "  maximumGrade promotionPotential  minimumSalary  maximumSalary  \\\n",
       "0           11               None       63323.00       82320.00   \n",
       "1           00               None       53885.00      117808.00   \n",
       "2           02               None       25655.00       32293.00   \n",
       "3           12               None      134852.00      175313.00   \n",
       "4            D                  E          15.37          21.96   \n",
       "\n",
       "  supervisoryStatus drugTestRequired relocationExpensesReimbursed  \\\n",
       "0                 N                N                            N   \n",
       "1                 N                N                            N   \n",
       "2                 N                N                            N   \n",
       "3                 N                N                            Y   \n",
       "4                 N                N                            N   \n",
       "\n",
       "  totalOpenings disableAppyOnline      positionOpeningStatus  \\\n",
       "0         1                     N               Job canceled   \n",
       "1         11                    N  Applications under review   \n",
       "2         3                     N  Applications under review   \n",
       "3         Few                   N  Applications under review   \n",
       "4          None                 N  Applications under review   \n",
       "\n",
       "   applicationsStarted                                        hiringPaths  \\\n",
       "0                   75  [{'hiringPath': 'U.S. Citizens, Nationals or t...   \n",
       "1                  221  [{'hiringPath': 'U.S. Citizens, Nationals or t...   \n",
       "2                   36  [{'hiringPath': ''}, {'hiringPath': 'Individua...   \n",
       "3                    9  [{'hiringPath': 'U.S. Citizens, Nationals or t...   \n",
       "4                  484  [{'hiringPath': 'U.S. Citizens, Nationals or t...   \n",
       "\n",
       "          jobCategories                                  positionLocations  \\\n",
       "0  [{'series': '1910'}]  [{'positionLocationId': 10253844, 'positionLoc...   \n",
       "1  [{'series': '0610'}]  [{'positionLocationId': 12360514, 'positionLoc...   \n",
       "2  [{'series': '0102'}]  [{'positionLocationId': 11836391, 'positionLoc...   \n",
       "3  [{'series': '0610'}]  [{'positionLocationId': 12097237, 'positionLoc...   \n",
       "4  [{'series': '1802'}]  [{'positionLocationId': 11696512, 'positionLoc...   \n",
       "\n",
       "  missionCriticalOccupations  \\\n",
       "0                         []   \n",
       "1                         []   \n",
       "2                         []   \n",
       "3                         []   \n",
       "4                         []   \n",
       "\n",
       "                             keyStandardRequirements  \\\n",
       "0  [{'keyStandardRequirement': None, 'keyStandard...   \n",
       "1  [{'keyStandardRequirement': None, 'keyStandard...   \n",
       "2  [{'keyStandardRequirement': None, 'keyStandard...   \n",
       "3  [{'keyStandardRequirement': None, 'keyStandard...   \n",
       "4  [{'keyStandardRequirement': None, 'keyStandard...   \n",
       "\n",
       "                                              _links  \n",
       "0  [{'rel': 'AnnouncementText', 'href': '/api/his...  \n",
       "1  [{'rel': 'AnnouncementText', 'href': '/api/his...  \n",
       "2  [{'rel': 'AnnouncementText', 'href': '/api/his...  \n",
       "3  [{'rel': 'AnnouncementText', 'href': '/api/his...  \n",
       "4  [{'rel': 'AnnouncementText', 'href': '/api/his...  "
      ]
     },
     "execution_count": 141,
     "metadata": {},
     "output_type": "execute_result"
    }
   ],
   "source": [
    "# dataframe 17\n",
    "\n",
    "usa_jobs = pd.DataFrame()\n",
    "\n",
    "for data in usa_jobs_data:\n",
    "    \n",
    "    usa_jobs_x = pd.DataFrame(data)\n",
    "    usa_jobs = pd.concat([usa_jobs,usa_jobs_x], axis = 0)\n",
    "\n",
    "print(usa_jobs.shape)\n",
    "usa_jobs.head()"
   ]
  },
  {
   "cell_type": "code",
   "execution_count": 142,
   "id": "520e13fe",
   "metadata": {},
   "outputs": [],
   "source": [
    "# save as .csv\n",
    "\n",
    "usa_jobs.to_csv('usa_jobs_1700.csv', index=False)"
   ]
  },
  {
   "cell_type": "code",
   "execution_count": 143,
   "id": "6458b7c9",
   "metadata": {},
   "outputs": [
    {
     "data": {
      "text/plain": [
       "100"
      ]
     },
     "execution_count": 143,
     "metadata": {},
     "output_type": "execute_result"
    }
   ],
   "source": [
    "page_1701 = list(range(1701,1701+100))\n",
    "len(page_1701)"
   ]
  },
  {
   "cell_type": "code",
   "execution_count": null,
   "id": "f820a505",
   "metadata": {},
   "outputs": [],
   "source": [
    "\n",
    "# data from api: finish \n"
   ]
  },
  {
   "cell_type": "code",
   "execution_count": null,
   "id": "19a85621",
   "metadata": {},
   "outputs": [],
   "source": []
  },
  {
   "cell_type": "code",
   "execution_count": null,
   "id": "e10c653b",
   "metadata": {},
   "outputs": [],
   "source": []
  },
  {
   "cell_type": "code",
   "execution_count": null,
   "id": "ec4eb3ba",
   "metadata": {},
   "outputs": [],
   "source": []
  },
  {
   "cell_type": "code",
   "execution_count": null,
   "id": "9ed9ad3d",
   "metadata": {},
   "outputs": [],
   "source": []
  }
 ],
 "metadata": {
  "kernelspec": {
   "display_name": "Python 3 (ipykernel)",
   "language": "python",
   "name": "python3"
  },
  "language_info": {
   "codemirror_mode": {
    "name": "ipython",
    "version": 3
   },
   "file_extension": ".py",
   "mimetype": "text/x-python",
   "name": "python",
   "nbconvert_exporter": "python",
   "pygments_lexer": "ipython3",
   "version": "3.11.4"
  }
 },
 "nbformat": 4,
 "nbformat_minor": 5
}
